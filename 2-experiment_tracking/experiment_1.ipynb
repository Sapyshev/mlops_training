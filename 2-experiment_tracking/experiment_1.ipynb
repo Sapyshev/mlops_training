{
 "cells": [
  {
   "cell_type": "code",
   "execution_count": 35,
   "metadata": {},
   "outputs": [],
   "source": [
    "import mlflow\n",
    "import pandas as pd\n",
    "from sklearn.utils import shuffle\n",
    "from sklearn.linear_model import LogisticRegression\n",
    "from sklearn.metrics import accuracy_score\n",
    "from sklearn.metrics import mean_squared_error\n",
    "from sklearn.model_selection import train_test_split\n",
    "import pickle"
   ]
  },
  {
   "cell_type": "code",
   "execution_count": 23,
   "metadata": {},
   "outputs": [
    {
     "data": {
      "text/plain": [
       "<Experiment: artifact_location='./mlruns/1', creation_time=1691048167168, experiment_id='1', last_update_time=1691048167168, lifecycle_stage='active', name='my-fakenews-exp', tags={}>"
      ]
     },
     "execution_count": 23,
     "metadata": {},
     "output_type": "execute_result"
    }
   ],
   "source": [
    "import mlflow\n",
    "\n",
    "mlflow.set_tracking_uri(\"sqlite:///mlflow.db\")\n",
    "mlflow.set_experiment(\"my-fakenews-exp\")"
   ]
  },
  {
   "cell_type": "code",
   "execution_count": 24,
   "metadata": {},
   "outputs": [],
   "source": [
    "import pandas as pd\n",
    "import numpy as np\n",
    "import io\n",
    "\n",
    "df = pd.read_csv(\"../data/data_embeddings.csv\",index_col=0)"
   ]
  },
  {
   "cell_type": "code",
   "execution_count": 25,
   "metadata": {},
   "outputs": [],
   "source": [
    "def convert(item):\n",
    "    item = item.strip()  # remove spaces at the end\n",
    "    item = item[1:-1]    # remove `[ ]`\n",
    "    item = np.fromstring(item, sep=' ')  # convert string to `numpy.array`\n",
    "    return item"
   ]
  },
  {
   "cell_type": "code",
   "execution_count": 26,
   "metadata": {},
   "outputs": [],
   "source": [
    "df['vector'] = df['vector'].apply(convert)"
   ]
  },
  {
   "cell_type": "code",
   "execution_count": 27,
   "metadata": {},
   "outputs": [],
   "source": [
    "df = shuffle(df)"
   ]
  },
  {
   "cell_type": "code",
   "execution_count": 28,
   "metadata": {},
   "outputs": [],
   "source": [
    "X = df['vector']\n",
    "y = df['label']"
   ]
  },
  {
   "cell_type": "code",
   "execution_count": 29,
   "metadata": {},
   "outputs": [],
   "source": [
    "X = np.stack(X)\n",
    "y = np.stack(y)"
   ]
  },
  {
   "cell_type": "code",
   "execution_count": 30,
   "metadata": {},
   "outputs": [],
   "source": [
    "\n",
    "X_train, X_test, y_train, y_test = train_test_split(X, y, test_size=0.33, random_state=42)"
   ]
  },
  {
   "cell_type": "code",
   "execution_count": 32,
   "metadata": {},
   "outputs": [
    {
     "name": "stderr",
     "output_type": "stream",
     "text": [
      "/opt/anaconda3/envs/mlflow-env/lib/python3.9/site-packages/sklearn/linear_model/_logistic.py:458: ConvergenceWarning: lbfgs failed to converge (status=1):\n",
      "STOP: TOTAL NO. of ITERATIONS REACHED LIMIT.\n",
      "\n",
      "Increase the number of iterations (max_iter) or scale the data as shown in:\n",
      "    https://scikit-learn.org/stable/modules/preprocessing.html\n",
      "Please also refer to the documentation for alternative solver options:\n",
      "    https://scikit-learn.org/stable/modules/linear_model.html#logistic-regression\n",
      "  n_iter_i = _check_optimize_result(\n"
     ]
    }
   ],
   "source": [
    "with mlflow.start_run():\n",
    "    mlflow.set_tag(\"data_scientist\", \"Rollan\")\n",
    "\n",
    "    mlflow.log_param(\"data_path\", \"../data_embeddings.csv\")\n",
    "\n",
    "    C = 0.03\n",
    "    mlflow.log_param(\"regularization\", C)\n",
    "\n",
    "    lr = LogisticRegression(C=C)\n",
    "    lr.fit(X_train, y_train)\n",
    " \n",
    "    y_pred = lr.predict(X_test)\n",
    "    rmse = mean_squared_error(y_test, y_pred, squared=False)\n",
    "    mlflow.log_metric(\"accuracy\", rmse)\n",
    "\n",
    "    mlflow.log_artifact(local_path=\"../models/svm_model.bin\", artifact_path=\"models_pickle\")"
   ]
  },
  {
   "cell_type": "code",
   "execution_count": 14,
   "metadata": {},
   "outputs": [],
   "source": [
    "import xgboost as xgb\n",
    "\n",
    "from hyperopt import fmin, tpe, hp, STATUS_OK, Trials  #helps to optimize hyperparameters\n",
    "from hyperopt.pyll import scope"
   ]
  },
  {
   "cell_type": "code",
   "execution_count": 15,
   "metadata": {},
   "outputs": [],
   "source": [
    "train = xgb.DMatrix(X_train, label=y_train)\n",
    "valid = xgb.DMatrix(X_test, label=y_test)"
   ]
  },
  {
   "cell_type": "code",
   "execution_count": 16,
   "metadata": {},
   "outputs": [],
   "source": [
    "def obj(params):\n",
    "\n",
    "    with mlflow.start_run():\n",
    "        mlflow.set_tag(\"model\", \"xgboost\")\n",
    "        mlflow.log_params(params)\n",
    "        booster = xgb.train(\n",
    "            params=params,\n",
    "            dtrain=train,\n",
    "            num_boost_round=30,\n",
    "            evals=[(valid, \"test\")],\n",
    "            early_stopping_rounds=20\n",
    "        )\n",
    "        y_pred = booster.predict(valid)\n",
    "        rmse = mean_squared_error(y_test, y_pred, squared=False)\n",
    "        mlflow.log_metric(\"rmse\", rmse)\n",
    "    \n",
    "    return {\"loss\":rmse, \"status\":STATUS_OK}\n"
   ]
  },
  {
   "cell_type": "code",
   "execution_count": 17,
   "metadata": {},
   "outputs": [
    {
     "name": "stdout",
     "output_type": "stream",
     "text": [
      "[16:39:05] WARNING: /Users/runner/work/xgboost/xgboost/python-package/build/temp.macosx-10.9-x86_64-cpython-38/xgboost/src/objective/regression_obj.cu:213: reg:linear is now deprecated in favor of reg:squarederror.\n",
      "[0]\ttest-rmse:0.43258                                 \n",
      "[1]\ttest-rmse:0.37581                                 \n",
      "[2]\ttest-rmse:0.32878                                 \n",
      "[3]\ttest-rmse:0.28901                                 \n",
      "[4]\ttest-rmse:0.25501                                 \n",
      "[5]\ttest-rmse:0.22727                                 \n",
      "[6]\ttest-rmse:0.20448                                 \n",
      "[7]\ttest-rmse:0.18633                                 \n",
      "[8]\ttest-rmse:0.17163                                 \n",
      "[9]\ttest-rmse:0.15983                                 \n",
      "[10]\ttest-rmse:0.15007                                \n",
      "[11]\ttest-rmse:0.14211                                \n",
      "[12]\ttest-rmse:0.13619                                \n",
      "[13]\ttest-rmse:0.13153                                \n",
      "[14]\ttest-rmse:0.12790                                \n",
      "[15]\ttest-rmse:0.12494                                \n",
      "[16]\ttest-rmse:0.12228                                \n",
      "[17]\ttest-rmse:0.12032                                \n",
      "[18]\ttest-rmse:0.11891                                \n",
      "[19]\ttest-rmse:0.11752                                \n",
      "[20]\ttest-rmse:0.11604                                \n",
      "[21]\ttest-rmse:0.11510                                \n",
      "[22]\ttest-rmse:0.11424                                \n",
      "[23]\ttest-rmse:0.11357                                \n",
      "[24]\ttest-rmse:0.11290                                \n",
      "[25]\ttest-rmse:0.11207                                \n",
      "[26]\ttest-rmse:0.11126                                \n",
      "[27]\ttest-rmse:0.11072                                \n",
      "[28]\ttest-rmse:0.11025                                \n",
      "[29]\ttest-rmse:0.10970                                \n",
      "[16:39:12] WARNING: /Users/runner/work/xgboost/xgboost/python-package/build/temp.macosx-10.9-x86_64-cpython-38/xgboost/src/objective/regression_obj.cu:213: reg:linear is now deprecated in favor of reg:squarederror.\n",
      "[0]\ttest-rmse:0.18001                                                            \n",
      "[1]\ttest-rmse:0.12596                                                            \n",
      "[2]\ttest-rmse:0.11954                                                            \n",
      "[3]\ttest-rmse:0.11829                                                            \n",
      "[4]\ttest-rmse:0.11807                                                            \n",
      "[5]\ttest-rmse:0.11798                                                            \n",
      "[6]\ttest-rmse:0.11811                                                            \n",
      "[7]\ttest-rmse:0.11809                                                            \n",
      "[8]\ttest-rmse:0.11825                                                            \n",
      "[9]\ttest-rmse:0.11846                                                            \n",
      "[10]\ttest-rmse:0.11835                                                           \n",
      "[11]\ttest-rmse:0.11828                                                           \n",
      "[12]\ttest-rmse:0.11838                                                           \n",
      "[13]\ttest-rmse:0.11833                                                           \n",
      "[14]\ttest-rmse:0.11845                                                           \n",
      "[15]\ttest-rmse:0.11845                                                           \n",
      "[16]\ttest-rmse:0.11851                                                           \n",
      "[17]\ttest-rmse:0.11851                                                           \n",
      "[18]\ttest-rmse:0.11851                                                           \n",
      "[19]\ttest-rmse:0.11852                                                           \n",
      "[20]\ttest-rmse:0.11851                                                           \n",
      "[21]\ttest-rmse:0.11853                                                           \n",
      "[22]\ttest-rmse:0.11853                                                           \n",
      "[23]\ttest-rmse:0.11854                                                           \n",
      "[24]\ttest-rmse:0.11853                                                           \n",
      "[16:39:40] WARNING: /Users/runner/work/xgboost/xgboost/python-package/build/temp.macosx-10.9-x86_64-cpython-38/xgboost/src/objective/regression_obj.cu:213: reg:linear is now deprecated in favor of reg:squarederror.\n",
      "[0]\ttest-rmse:0.31978                                                            \n",
      "[1]\ttest-rmse:0.21530                                                            \n",
      "[2]\ttest-rmse:0.15824                                                            \n",
      "[3]\ttest-rmse:0.12921                                                            \n",
      "[4]\ttest-rmse:0.11582                                                            \n",
      "[5]\ttest-rmse:0.10893                                                            \n",
      "[6]\ttest-rmse:0.10565                                                            \n",
      "[7]\ttest-rmse:0.10371                                                            \n",
      "[8]\ttest-rmse:0.10276                                                            \n",
      "[9]\ttest-rmse:0.10178                                                            \n",
      "[10]\ttest-rmse:0.10139                                                           \n",
      "[11]\ttest-rmse:0.10059                                                           \n",
      "[12]\ttest-rmse:0.10018                                                           \n",
      "[13]\ttest-rmse:0.09942                                                           \n",
      "[14]\ttest-rmse:0.09913                                                           \n",
      "[15]\ttest-rmse:0.09898                                                           \n",
      "[16]\ttest-rmse:0.09870                                                           \n",
      "[17]\ttest-rmse:0.09832                                                           \n",
      "[18]\ttest-rmse:0.09770                                                           \n",
      "[19]\ttest-rmse:0.09747                                                           \n",
      "[20]\ttest-rmse:0.09723                                                           \n",
      "[21]\ttest-rmse:0.09699                                                           \n",
      "[22]\ttest-rmse:0.09691                                                           \n",
      "[23]\ttest-rmse:0.09680                                                           \n",
      "[24]\ttest-rmse:0.09690                                                           \n",
      "[25]\ttest-rmse:0.09672                                                           \n",
      "[26]\ttest-rmse:0.09662                                                           \n",
      "[27]\ttest-rmse:0.09647                                                           \n",
      "[28]\ttest-rmse:0.09634                                                           \n",
      "[29]\ttest-rmse:0.09629                                                           \n",
      "[16:39:55] WARNING: /Users/runner/work/xgboost/xgboost/python-package/build/temp.macosx-10.9-x86_64-cpython-38/xgboost/src/objective/regression_obj.cu:213: reg:linear is now deprecated in favor of reg:squarederror.\n",
      "[0]\ttest-rmse:0.36833                                                            \n",
      "[1]\ttest-rmse:0.27540                                                            \n",
      "[2]\ttest-rmse:0.21092                                                            \n",
      "[3]\ttest-rmse:0.16825                                                            \n",
      "[4]\ttest-rmse:0.13982                                                            \n",
      "[5]\ttest-rmse:0.12251                                                            \n",
      "[6]\ttest-rmse:0.11138                                                            \n",
      "[7]\ttest-rmse:0.10416                                                            \n",
      "[8]\ttest-rmse:0.09969                                                            \n",
      "[9]\ttest-rmse:0.09717                                                            \n",
      "[10]\ttest-rmse:0.09550                                                           \n",
      "[11]\ttest-rmse:0.09447                                                           \n",
      "[12]\ttest-rmse:0.09383                                                           \n",
      "[13]\ttest-rmse:0.09322                                                           \n",
      "[14]\ttest-rmse:0.09278                                                           \n",
      "[15]\ttest-rmse:0.09236                                                           \n",
      "[16]\ttest-rmse:0.09212                                                           \n",
      "[17]\ttest-rmse:0.09193                                                           \n",
      "[18]\ttest-rmse:0.09184                                                           \n",
      "[19]\ttest-rmse:0.09170                                                           \n",
      "[20]\ttest-rmse:0.09157                                                           \n",
      "[21]\ttest-rmse:0.09149                                                           \n",
      "[22]\ttest-rmse:0.09137                                                           \n",
      "[23]\ttest-rmse:0.09128                                                           \n",
      "[24]\ttest-rmse:0.09122                                                           \n",
      "[25]\ttest-rmse:0.09117                                                           \n",
      "[26]\ttest-rmse:0.09113                                                           \n",
      "[27]\ttest-rmse:0.09111                                                           \n",
      "[28]\ttest-rmse:0.09108                                                           \n",
      "[29]\ttest-rmse:0.09107                                                           \n",
      "[16:40:21] WARNING: /Users/runner/work/xgboost/xgboost/python-package/build/temp.macosx-10.9-x86_64-cpython-38/xgboost/src/objective/regression_obj.cu:213: reg:linear is now deprecated in favor of reg:squarederror.\n",
      "[0]\ttest-rmse:0.46898                                                            \n",
      "[1]\ttest-rmse:0.43998                                                            \n",
      "[2]\ttest-rmse:0.41319                                                            \n",
      "[3]\ttest-rmse:0.38824                                                            \n",
      "[4]\ttest-rmse:0.36496                                                            \n",
      "[5]\ttest-rmse:0.34340                                                            \n",
      "[6]\ttest-rmse:0.32355                                                            \n",
      "[7]\ttest-rmse:0.30503                                                            \n",
      "[8]\ttest-rmse:0.28770                                                            \n",
      "[9]\ttest-rmse:0.27162                                                            \n",
      "[10]\ttest-rmse:0.25657                                                           \n",
      "[11]\ttest-rmse:0.24284                                                           \n",
      "[12]\ttest-rmse:0.23000                                                           \n",
      "[13]\ttest-rmse:0.21815                                                           \n",
      "[14]\ttest-rmse:0.20741                                                           \n",
      "[15]\ttest-rmse:0.19736                                                           \n",
      "[16]\ttest-rmse:0.18808                                                           \n",
      "[17]\ttest-rmse:0.17951                                                           \n",
      "[18]\ttest-rmse:0.17158                                                           \n",
      "[19]\ttest-rmse:0.16431                                                           \n",
      "[20]\ttest-rmse:0.15769                                                           \n",
      "[21]\ttest-rmse:0.15170                                                           \n",
      "[22]\ttest-rmse:0.14611                                                           \n",
      "[23]\ttest-rmse:0.14099                                                           \n",
      "[24]\ttest-rmse:0.13635                                                           \n",
      "[25]\ttest-rmse:0.13216                                                           \n",
      "[26]\ttest-rmse:0.12826                                                           \n",
      "[27]\ttest-rmse:0.12475                                                           \n",
      "[28]\ttest-rmse:0.12166                                                           \n",
      "[29]\ttest-rmse:0.11885                                                           \n",
      "[16:40:34] WARNING: /Users/runner/work/xgboost/xgboost/python-package/build/temp.macosx-10.9-x86_64-cpython-38/xgboost/src/objective/regression_obj.cu:213: reg:linear is now deprecated in favor of reg:squarederror.\n",
      "[0]\ttest-rmse:0.41744                                                            \n",
      "[1]\ttest-rmse:0.34990                                                            \n",
      "[2]\ttest-rmse:0.29527                                                            \n",
      "[3]\ttest-rmse:0.25095                                                            \n",
      "[4]\ttest-rmse:0.21493                                                            \n",
      "[5]\ttest-rmse:0.18669                                                            \n",
      "[6]\ttest-rmse:0.16442                                                            \n",
      "[7]\ttest-rmse:0.14618                                                            \n",
      "[8]\ttest-rmse:0.13227                                                            \n",
      "[9]\ttest-rmse:0.12131                                                            \n",
      "[10]\ttest-rmse:0.11322                                                           \n",
      "[11]\ttest-rmse:0.10663                                                           \n",
      "[12]\ttest-rmse:0.10192                                                           \n",
      "[13]\ttest-rmse:0.09834                                                           \n",
      "[14]\ttest-rmse:0.09526                                                           \n",
      "[15]\ttest-rmse:0.09289                                                           \n",
      "[16]\ttest-rmse:0.09131                                                           \n",
      "[17]\ttest-rmse:0.08983                                                           \n",
      "[18]\ttest-rmse:0.08866                                                           \n",
      "[19]\ttest-rmse:0.08758                                                           \n",
      "[20]\ttest-rmse:0.08670                                                           \n",
      "[21]\ttest-rmse:0.08595                                                           \n",
      "[22]\ttest-rmse:0.08530                                                           \n",
      "[23]\ttest-rmse:0.08471                                                           \n",
      "[24]\ttest-rmse:0.08426                                                           \n",
      "[25]\ttest-rmse:0.08377                                                           \n",
      "[26]\ttest-rmse:0.08342                                                           \n",
      "[27]\ttest-rmse:0.08295                                                           \n",
      "[28]\ttest-rmse:0.08270                                                           \n",
      "[29]\ttest-rmse:0.08239                                                           \n",
      "[16:40:53] WARNING: /Users/runner/work/xgboost/xgboost/python-package/build/temp.macosx-10.9-x86_64-cpython-38/xgboost/src/objective/regression_obj.cu:213: reg:linear is now deprecated in favor of reg:squarederror.\n",
      "[0]\ttest-rmse:0.44868                                                            \n",
      "[1]\ttest-rmse:0.40318                                                            \n",
      "[2]\ttest-rmse:0.36273                                                            \n",
      "[3]\ttest-rmse:0.32687                                                            \n",
      "[4]\ttest-rmse:0.29548                                                            \n",
      "[5]\ttest-rmse:0.26772                                                            \n",
      "[6]\ttest-rmse:0.24327                                                            \n",
      "[7]\ttest-rmse:0.22189                                                            \n",
      "[8]\ttest-rmse:0.20297                                                            \n",
      "[9]\ttest-rmse:0.18633                                                            \n",
      "[10]\ttest-rmse:0.17211                                                           \n",
      "[11]\ttest-rmse:0.15976                                                           \n",
      "[12]\ttest-rmse:0.14902                                                           \n",
      "[13]\ttest-rmse:0.13972                                                           \n",
      "[14]\ttest-rmse:0.13179                                                           \n",
      "[15]\ttest-rmse:0.12501                                                           \n",
      "[16]\ttest-rmse:0.11917                                                           \n",
      "[17]\ttest-rmse:0.11433                                                           \n",
      "[18]\ttest-rmse:0.11018                                                           \n",
      "[19]\ttest-rmse:0.10665                                                           \n",
      "[20]\ttest-rmse:0.10378                                                           \n",
      "[21]\ttest-rmse:0.10129                                                           \n",
      "[22]\ttest-rmse:0.09922                                                           \n",
      "[23]\ttest-rmse:0.09749                                                           \n",
      "[24]\ttest-rmse:0.09601                                                           \n",
      "[25]\ttest-rmse:0.09480                                                           \n",
      "[26]\ttest-rmse:0.09380                                                           \n",
      "[27]\ttest-rmse:0.09291                                                           \n",
      "[28]\ttest-rmse:0.09218                                                           \n",
      "[29]\ttest-rmse:0.09153                                                           \n",
      "[16:41:29] WARNING: /Users/runner/work/xgboost/xgboost/python-package/build/temp.macosx-10.9-x86_64-cpython-38/xgboost/src/objective/regression_obj.cu:213: reg:linear is now deprecated in favor of reg:squarederror.\n",
      "[0]\ttest-rmse:0.46141                                                            \n",
      "[1]\ttest-rmse:0.42606                                                            \n",
      "[2]\ttest-rmse:0.39381                                                            \n",
      "[3]\ttest-rmse:0.36431                                                            \n",
      "[4]\ttest-rmse:0.33717                                                            \n",
      "[5]\ttest-rmse:0.31248                                                            \n",
      "[6]\ttest-rmse:0.28995                                                            \n",
      "[7]\ttest-rmse:0.26942                                                            \n",
      "[8]\ttest-rmse:0.25075                                                            \n",
      "[9]\ttest-rmse:0.23373                                                            \n",
      "[10]\ttest-rmse:0.21831                                                           \n",
      "[11]\ttest-rmse:0.20431                                                           \n",
      "[12]\ttest-rmse:0.19164                                                           \n",
      "[13]\ttest-rmse:0.18012                                                           \n",
      "[14]\ttest-rmse:0.16971                                                           \n",
      "[15]\ttest-rmse:0.16036                                                           \n",
      "[16]\ttest-rmse:0.15195                                                           \n",
      "[17]\ttest-rmse:0.14442                                                           \n",
      "[18]\ttest-rmse:0.13767                                                           \n",
      "[19]\ttest-rmse:0.13168                                                           \n",
      "[20]\ttest-rmse:0.12637                                                           \n",
      "[21]\ttest-rmse:0.12163                                                           \n",
      "[22]\ttest-rmse:0.11735                                                           \n",
      "[23]\ttest-rmse:0.11363                                                           \n",
      "[24]\ttest-rmse:0.11030                                                           \n",
      "[25]\ttest-rmse:0.10735                                                           \n",
      "[26]\ttest-rmse:0.10490                                                           \n",
      "[27]\ttest-rmse:0.10264                                                           \n",
      "[28]\ttest-rmse:0.10062                                                           \n",
      "[29]\ttest-rmse:0.09878                                                           \n",
      "[16:41:56] WARNING: /Users/runner/work/xgboost/xgboost/python-package/build/temp.macosx-10.9-x86_64-cpython-38/xgboost/src/objective/regression_obj.cu:213: reg:linear is now deprecated in favor of reg:squarederror.\n",
      "[0]\ttest-rmse:0.16890                                                            \n",
      "[1]\ttest-rmse:0.12916                                                            \n",
      "[2]\ttest-rmse:0.12516                                                            \n",
      "[3]\ttest-rmse:0.12456                                                            \n",
      "[4]\ttest-rmse:0.12432                                                            \n",
      "[5]\ttest-rmse:0.12419                                                            \n",
      "[6]\ttest-rmse:0.12407                                                            \n",
      "[7]\ttest-rmse:0.12406                                                            \n",
      "[8]\ttest-rmse:0.12406                                                            \n",
      "[9]\ttest-rmse:0.12406                                                            \n",
      "[10]\ttest-rmse:0.12406                                                           \n",
      "[11]\ttest-rmse:0.12405                                                           \n",
      "[12]\ttest-rmse:0.12405                                                           \n",
      "[13]\ttest-rmse:0.12405                                                           \n",
      "[14]\ttest-rmse:0.12404                                                           \n",
      "[15]\ttest-rmse:0.12404                                                           \n",
      "[16]\ttest-rmse:0.12404                                                           \n",
      "[17]\ttest-rmse:0.12404                                                           \n",
      "[18]\ttest-rmse:0.12403                                                           \n",
      "[19]\ttest-rmse:0.12403                                                           \n",
      "[20]\ttest-rmse:0.12403                                                           \n",
      "[21]\ttest-rmse:0.12403                                                           \n",
      "[22]\ttest-rmse:0.12403                                                           \n",
      "[23]\ttest-rmse:0.12403                                                           \n",
      "[24]\ttest-rmse:0.12403                                                           \n",
      "[25]\ttest-rmse:0.12402                                                           \n",
      "[26]\ttest-rmse:0.12402                                                           \n",
      "[27]\ttest-rmse:0.12403                                                           \n",
      "[28]\ttest-rmse:0.12403                                                           \n",
      "[29]\ttest-rmse:0.12403                                                           \n",
      "[16:42:23] WARNING: /Users/runner/work/xgboost/xgboost/python-package/build/temp.macosx-10.9-x86_64-cpython-38/xgboost/src/objective/regression_obj.cu:213: reg:linear is now deprecated in favor of reg:squarederror.\n",
      "[0]\ttest-rmse:0.21177                                                            \n",
      "[1]\ttest-rmse:0.13563                                                            \n",
      "[2]\ttest-rmse:0.12168                                                            \n",
      "[3]\ttest-rmse:0.11906                                                            \n",
      "[4]\ttest-rmse:0.11853                                                            \n",
      "[5]\ttest-rmse:0.11838                                                            \n",
      "[6]\ttest-rmse:0.11831                                                            \n",
      "[7]\ttest-rmse:0.11827                                                            \n",
      "[8]\ttest-rmse:0.11825                                                            \n",
      "[9]\ttest-rmse:0.11824                                                            \n",
      "[10]\ttest-rmse:0.11824                                                           \n",
      "[11]\ttest-rmse:0.11823                                                           \n",
      "[12]\ttest-rmse:0.11823                                                           \n",
      "[13]\ttest-rmse:0.11823                                                           \n",
      "[14]\ttest-rmse:0.11822                                                           \n",
      "[15]\ttest-rmse:0.11822                                                           \n",
      "[16]\ttest-rmse:0.11822                                                           \n",
      "[17]\ttest-rmse:0.11822                                                           \n",
      "[18]\ttest-rmse:0.11822                                                           \n",
      "[19]\ttest-rmse:0.11822                                                           \n",
      "[20]\ttest-rmse:0.11822                                                           \n",
      "[21]\ttest-rmse:0.11822                                                           \n",
      "[22]\ttest-rmse:0.11822                                                           \n",
      "[23]\ttest-rmse:0.11822                                                           \n",
      "[24]\ttest-rmse:0.11822                                                           \n",
      "[25]\ttest-rmse:0.11822                                                           \n",
      "[26]\ttest-rmse:0.11822                                                           \n",
      "[27]\ttest-rmse:0.11822                                                           \n",
      "[28]\ttest-rmse:0.11822                                                           \n",
      "[29]\ttest-rmse:0.11822                                                           \n",
      "100%|██████████| 10/10 [03:38<00:00, 21.80s/trial, best loss: 0.08239437117740984]\n"
     ]
    }
   ],
   "source": [
    "search_space = {\n",
    "    'max_depth': scope.int(hp.quniform('max_depth', 4, 30, 1)),\n",
    "    'learning_rate': hp.loguniform('learning_rate', -3, 0),\n",
    "    'reg_alpha': hp.loguniform('reg_alpha', -5, -1),\n",
    "    'reg_lambda': hp.loguniform('reg_lambda', -6, -1),\n",
    "    'min_child_weight': hp.loguniform('min_child_weight', -1, 3),\n",
    "    'objective': 'reg:linear',\n",
    "    'seed': 42\n",
    "}\n",
    "\n",
    "best_result = fmin(\n",
    "    fn=obj,\n",
    "    space=search_space,\n",
    "    algo=tpe.suggest,\n",
    "    max_evals=10,\n",
    "    trials=Trials()\n",
    ")"
   ]
  },
  {
   "cell_type": "code",
   "execution_count": 18,
   "metadata": {},
   "outputs": [
    {
     "name": "stderr",
     "output_type": "stream",
     "text": [
      "2023/08/04 16:50:07 INFO mlflow.utils.autologging_utils: Created MLflow autologging run with ID 'e2d14322d756427ab9d2f2815ba001e0', which will track hyperparameters, performance metrics, model artifacts, and lineage information for the current xgboost workflow\n"
     ]
    },
    {
     "name": "stdout",
     "output_type": "stream",
     "text": [
      "[16:50:07] WARNING: /Users/runner/work/xgboost/xgboost/python-package/build/temp.macosx-10.9-x86_64-cpython-38/xgboost/src/objective/regression_obj.cu:213: reg:linear is now deprecated in favor of reg:squarederror.\n",
      "[0]\ttest-rmse:0.43360\n",
      "[1]\ttest-rmse:0.37748\n",
      "[2]\ttest-rmse:0.33018\n",
      "[3]\ttest-rmse:0.29054\n",
      "[4]\ttest-rmse:0.25783\n",
      "[5]\ttest-rmse:0.23093\n",
      "[6]\ttest-rmse:0.20910\n",
      "[7]\ttest-rmse:0.19174\n",
      "[8]\ttest-rmse:0.17592\n",
      "[9]\ttest-rmse:0.16320\n",
      "[10]\ttest-rmse:0.15308\n",
      "[11]\ttest-rmse:0.14518\n",
      "[12]\ttest-rmse:0.13902\n",
      "[13]\ttest-rmse:0.13421\n",
      "[14]\ttest-rmse:0.13060\n",
      "[15]\ttest-rmse:0.12776\n",
      "[16]\ttest-rmse:0.12554\n",
      "[17]\ttest-rmse:0.12383\n",
      "[18]\ttest-rmse:0.12253\n",
      "[19]\ttest-rmse:0.12156\n",
      "[20]\ttest-rmse:0.12072\n",
      "[21]\ttest-rmse:0.12013\n",
      "[22]\ttest-rmse:0.11963\n",
      "[23]\ttest-rmse:0.11925\n",
      "[24]\ttest-rmse:0.11897\n",
      "[25]\ttest-rmse:0.11872\n",
      "[26]\ttest-rmse:0.11856\n",
      "[27]\ttest-rmse:0.11840\n",
      "[28]\ttest-rmse:0.11827\n",
      "[29]\ttest-rmse:0.11817\n"
     ]
    },
    {
     "name": "stderr",
     "output_type": "stream",
     "text": [
      "2023/08/04 16:51:00 WARNING mlflow.xgboost: Failed to infer model signature: could not sample data to infer model signature: please ensure that autologging is enabled before constructing the dataset.\n",
      "2023/08/04 16:51:05 WARNING mlflow.utils.autologging_utils: MLflow autologging encountered a warning: \"/opt/anaconda3/envs/mlflow-env/lib/python3.9/site-packages/_distutils_hack/__init__.py:33: UserWarning: Setuptools is replacing distutils.\"\n"
     ]
    }
   ],
   "source": [
    "params = {\n",
    "    'learning_rate': 0.13998783607276,\n",
    "    'max_depth': 28,\n",
    "    'min_child_weight':\t0.8037214370553903,\n",
    "    'objective': 'reg:linear',\n",
    "    'reg_alpha': 0.007917567259199893,\n",
    "    'reg_lambda': 0.00982476912100121,\n",
    "    'seed': 42\n",
    "}\n",
    "\n",
    "\n",
    "mlflow.xgboost.autolog()\n",
    "booster = xgb.train(\n",
    "            params=params,\n",
    "            dtrain=train,\n",
    "            num_boost_round=30,\n",
    "            evals=[(valid, \"test\")],\n",
    "            early_stopping_rounds=20\n",
    "        )"
   ]
  },
  {
   "cell_type": "code",
   "execution_count": 37,
   "metadata": {},
   "outputs": [
    {
     "name": "stdout",
     "output_type": "stream",
     "text": [
      "[15:33:51] WARNING: /Users/runner/work/xgboost/xgboost/python-package/build/temp.macosx-10.9-x86_64-cpython-38/xgboost/src/objective/regression_obj.cu:213: reg:linear is now deprecated in favor of reg:squarederror.\n",
      "[0]\ttest-rmse:0.43360\n",
      "[1]\ttest-rmse:0.37748\n",
      "[2]\ttest-rmse:0.33018\n",
      "[3]\ttest-rmse:0.29054\n",
      "[4]\ttest-rmse:0.25783\n",
      "[5]\ttest-rmse:0.23093\n",
      "[6]\ttest-rmse:0.20910\n",
      "[7]\ttest-rmse:0.19174\n",
      "[8]\ttest-rmse:0.17592\n",
      "[9]\ttest-rmse:0.16320\n",
      "[10]\ttest-rmse:0.15308\n",
      "[11]\ttest-rmse:0.14518\n",
      "[12]\ttest-rmse:0.13902\n",
      "[13]\ttest-rmse:0.13421\n",
      "[14]\ttest-rmse:0.13060\n",
      "[15]\ttest-rmse:0.12776\n",
      "[16]\ttest-rmse:0.12554\n",
      "[17]\ttest-rmse:0.12383\n",
      "[18]\ttest-rmse:0.12253\n",
      "[19]\ttest-rmse:0.12156\n",
      "[20]\ttest-rmse:0.12072\n",
      "[21]\ttest-rmse:0.12013\n",
      "[22]\ttest-rmse:0.11963\n",
      "[23]\ttest-rmse:0.11925\n",
      "[24]\ttest-rmse:0.11897\n",
      "[25]\ttest-rmse:0.11872\n",
      "[26]\ttest-rmse:0.11856\n",
      "[27]\ttest-rmse:0.11840\n",
      "[28]\ttest-rmse:0.11827\n",
      "[29]\ttest-rmse:0.11817\n"
     ]
    },
    {
     "name": "stderr",
     "output_type": "stream",
     "text": [
      "2023/08/05 15:34:44 WARNING mlflow.xgboost: Failed to infer model signature: could not sample data to infer model signature: please ensure that autologging is enabled before constructing the dataset.\n"
     ]
    }
   ],
   "source": [
    "with mlflow.start_run():\n",
    "\n",
    "    best_params = {\n",
    "        'learning_rate': 0.13998783607276,\n",
    "        'max_depth': 28,\n",
    "        'min_child_weight':\t0.8037214370553903,\n",
    "        'objective': 'reg:linear',\n",
    "        'reg_alpha': 0.007917567259199893,\n",
    "        'reg_lambda': 0.00982476912100121,\n",
    "        'seed': 42\n",
    "    }\n",
    "\n",
    "    mlflow.log_params(best_params)\n",
    "\n",
    "    booster = xgb.train(\n",
    "            params=params,\n",
    "            dtrain=train,\n",
    "            num_boost_round=30,\n",
    "            evals=[(valid, \"test\")],\n",
    "            early_stopping_rounds=20)\n",
    "    y_pred = booster.predict(valid)\n",
    "    rmse = mean_squared_error(y_test, y_pred, squared=False)\n",
    "    mlflow.log_metric(\"rmse\", rmse) \n",
    "    mlflow.xgboost.log_model(booster, artifact_path=\"models_mlflow\")"
   ]
  },
  {
   "cell_type": "code",
   "execution_count": 38,
   "metadata": {},
   "outputs": [
    {
     "name": "stdout",
     "output_type": "stream",
     "text": [
      "[15:35:56] WARNING: /Users/runner/work/xgboost/xgboost/python-package/build/temp.macosx-10.9-x86_64-cpython-38/xgboost/src/objective/regression_obj.cu:213: reg:linear is now deprecated in favor of reg:squarederror.\n"
     ]
    }
   ],
   "source": [
    "logged_model = 'runs:/28fdb5119a224831b63d449bfffbe244/models_mlflow'\n",
    "\n",
    "# Load model as a PyFuncModel.\n",
    "loaded_model = mlflow.pyfunc.load_model(logged_model)"
   ]
  },
  {
   "cell_type": "code",
   "execution_count": 39,
   "metadata": {},
   "outputs": [
    {
     "data": {
      "text/plain": [
       "mlflow.pyfunc.loaded_model:\n",
       "  artifact_path: models_mlflow\n",
       "  flavor: mlflow.xgboost\n",
       "  run_id: 28fdb5119a224831b63d449bfffbe244"
      ]
     },
     "execution_count": 39,
     "metadata": {},
     "output_type": "execute_result"
    }
   ],
   "source": [
    "loaded_model"
   ]
  },
  {
   "cell_type": "code",
   "execution_count": 40,
   "metadata": {},
   "outputs": [
    {
     "name": "stdout",
     "output_type": "stream",
     "text": [
      "[15:37:32] WARNING: /Users/runner/work/xgboost/xgboost/python-package/build/temp.macosx-10.9-x86_64-cpython-38/xgboost/src/objective/regression_obj.cu:213: reg:linear is now deprecated in favor of reg:squarederror.\n"
     ]
    }
   ],
   "source": [
    "xgboost_model = mlflow.xgboost.load_model(logged_model)"
   ]
  },
  {
   "cell_type": "code",
   "execution_count": 41,
   "metadata": {},
   "outputs": [
    {
     "data": {
      "text/plain": [
       "<xgboost.core.Booster at 0x7fecbf6d84f0>"
      ]
     },
     "execution_count": 41,
     "metadata": {},
     "output_type": "execute_result"
    }
   ],
   "source": [
    "xgboost_model"
   ]
  },
  {
   "cell_type": "code",
   "execution_count": 43,
   "metadata": {},
   "outputs": [],
   "source": [
    "y_pred = xgboost_model.predict(valid)"
   ]
  },
  {
   "cell_type": "code",
   "execution_count": 44,
   "metadata": {},
   "outputs": [
    {
     "data": {
      "text/plain": [
       "array([0.9947031 , 0.00539737, 0.00812144, 0.00539737, 0.9946153 ,\n",
       "       0.00539737, 0.99472636, 0.00539737, 0.99469644, 0.9601756 ],\n",
       "      dtype=float32)"
      ]
     },
     "execution_count": 44,
     "metadata": {},
     "output_type": "execute_result"
    }
   ],
   "source": [
    "y_pred[:10]"
   ]
  },
  {
   "cell_type": "code",
   "execution_count": 45,
   "metadata": {},
   "outputs": [
    {
     "ename": "SyntaxError",
     "evalue": "invalid syntax (904230320.py, line 1)",
     "output_type": "error",
     "traceback": [
      "\u001b[0;36m  Cell \u001b[0;32mIn[45], line 1\u001b[0;36m\u001b[0m\n\u001b[0;31m    check the development branch\u001b[0m\n\u001b[0m          ^\u001b[0m\n\u001b[0;31mSyntaxError\u001b[0m\u001b[0;31m:\u001b[0m invalid syntax\n"
     ]
    }
   ],
   "source": [
    "check the development branch"
   ]
  },
  {
   "attachments": {},
   "cell_type": "markdown",
   "metadata": {},
   "source": [
    "### model registry"
   ]
  },
  {
   "cell_type": "code",
   "execution_count": 1,
   "metadata": {},
   "outputs": [],
   "source": [
    "from mlflow.tracking import MlflowClient\n",
    "\n",
    "MLFLOW_TRACKING_URI = \"sqlite:///mlflow.db\"\n",
    "client = MlflowClient(tracking_uri=MLFLOW_TRACKING_URI)"
   ]
  },
  {
   "cell_type": "code",
   "execution_count": 4,
   "metadata": {},
   "outputs": [
    {
     "data": {
      "text/plain": [
       "'2'"
      ]
     },
     "execution_count": 4,
     "metadata": {},
     "output_type": "execute_result"
    }
   ],
   "source": [
    "client.create_experiment(\"my_coll\")"
   ]
  },
  {
   "cell_type": "code",
   "execution_count": 5,
   "metadata": {},
   "outputs": [
    {
     "data": {
      "text/plain": [
       "[<Experiment: artifact_location='./mlruns/2', creation_time=1691325631447, experiment_id='2', last_update_time=1691325631447, lifecycle_stage='active', name='my_coll', tags={}>,\n",
       " <Experiment: artifact_location='./mlruns/1', creation_time=1691048167168, experiment_id='1', last_update_time=1691048167168, lifecycle_stage='active', name='my-fakenews-exp', tags={}>,\n",
       " <Experiment: artifact_location='mlflow-artifacts:/0', creation_time=1691047498639, experiment_id='0', last_update_time=1691047498639, lifecycle_stage='active', name='Default', tags={}>]"
      ]
     },
     "execution_count": 5,
     "metadata": {},
     "output_type": "execute_result"
    }
   ],
   "source": [
    "client.search_experiments()"
   ]
  },
  {
   "cell_type": "code",
   "execution_count": null,
   "metadata": {},
   "outputs": [],
   "source": []
  }
 ],
 "metadata": {
  "kernelspec": {
   "display_name": "mlflow-env",
   "language": "python",
   "name": "python3"
  },
  "language_info": {
   "codemirror_mode": {
    "name": "ipython",
    "version": 3
   },
   "file_extension": ".py",
   "mimetype": "text/x-python",
   "name": "python",
   "nbconvert_exporter": "python",
   "pygments_lexer": "ipython3",
   "version": "3.9.15"
  },
  "orig_nbformat": 4
 },
 "nbformat": 4,
 "nbformat_minor": 2
}
