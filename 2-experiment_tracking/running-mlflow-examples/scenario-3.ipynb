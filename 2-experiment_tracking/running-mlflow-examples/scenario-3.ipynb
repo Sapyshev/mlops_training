{
 "cells": [
  {
   "cell_type": "markdown",
   "metadata": {},
   "source": [
    "## Scenario 3: Multiple data scientists working on multiple ML models\n",
    "\n",
    "MLflow setup:\n",
    "* Tracking server: yes, remote server (EC2).\n",
    "* Backend store: postgresql database.\n",
    "* Artifacts store: s3 bucket.\n",
    "\n",
    "The experiments can be explored by accessing the remote server.\n",
    "\n",
    "The exampe uses AWS to host a remote server. In order to run the example you'll need an AWS account. Follow the steps described in the file `mlflow_on_aws.md` to create a new AWS account and launch the tracking server. "
   ]
  },
  {
   "cell_type": "code",
   "execution_count": 36,
   "metadata": {},
   "outputs": [],
   "source": [
    "import mlflow\n",
    "import os\n",
    "\n",
    "os.environ[\"AWS_PROFILE\"] = \"Rollan\" # fill in with your AWS profile. More info: https://docs.aws.amazon.com/sdk-for-java/latest/developer-guide/setup.html#setup-credentials\n",
    "\n",
    "TRACKING_SERVER_HOST = \"ec2-34-205-63-62.compute-1.amazonaws.com\" # fill in with the public DNS of the EC2 instance\n",
    "mlflow.set_tracking_uri(f\"http://{TRACKING_SERVER_HOST}:5000\")"
   ]
  },
  {
   "cell_type": "code",
   "execution_count": 37,
   "metadata": {},
   "outputs": [
    {
     "name": "stdout",
     "output_type": "stream",
     "text": [
      "tracking URI: 'http://ec2-34-205-63-62.compute-1.amazonaws.com:5000'\n"
     ]
    }
   ],
   "source": [
    "print(f\"tracking URI: '{mlflow.get_tracking_uri()}'\")"
   ]
  },
  {
   "cell_type": "code",
   "execution_count": 38,
   "metadata": {},
   "outputs": [
    {
     "data": {
      "text/plain": [
       "[<Experiment: artifact_location='s3://mlflow-artifacts-remote-rollan/1', creation_time=1691729015896, experiment_id='1', last_update_time=1691729015896, lifecycle_stage='active', name='my-experiment-1', tags={}>,\n",
       " <Experiment: artifact_location='s3://mlflow-artifacts-remote-rollan/0', creation_time=1691696947250, experiment_id='0', last_update_time=1691696947250, lifecycle_stage='active', name='Default', tags={}>]"
      ]
     },
     "execution_count": 38,
     "metadata": {},
     "output_type": "execute_result"
    }
   ],
   "source": [
    "mlflow.search_experiments()"
   ]
  },
  {
   "cell_type": "code",
   "execution_count": 39,
   "metadata": {},
   "outputs": [
    {
     "ename": "ProfileNotFound",
     "evalue": "The config profile (Rollan) could not be found",
     "output_type": "error",
     "traceback": [
      "\u001b[0;31m---------------------------------------------------------------------------\u001b[0m",
      "\u001b[0;31mProfileNotFound\u001b[0m                           Traceback (most recent call last)",
      "Cell \u001b[0;32mIn[39], line 18\u001b[0m\n\u001b[1;32m     15\u001b[0m y_pred \u001b[39m=\u001b[39m lr\u001b[39m.\u001b[39mpredict(X)\n\u001b[1;32m     16\u001b[0m mlflow\u001b[39m.\u001b[39mlog_metric(\u001b[39m\"\u001b[39m\u001b[39maccuracy\u001b[39m\u001b[39m\"\u001b[39m, accuracy_score(y, y_pred))\n\u001b[0;32m---> 18\u001b[0m mlflow\u001b[39m.\u001b[39;49msklearn\u001b[39m.\u001b[39;49mlog_model(lr, artifact_path\u001b[39m=\u001b[39;49m\u001b[39m\"\u001b[39;49m\u001b[39mmodels\u001b[39;49m\u001b[39m\"\u001b[39;49m)\n\u001b[1;32m     19\u001b[0m \u001b[39mprint\u001b[39m(\u001b[39mf\u001b[39m\u001b[39m\"\u001b[39m\u001b[39mdefault artifacts URI: \u001b[39m\u001b[39m'\u001b[39m\u001b[39m{\u001b[39;00mmlflow\u001b[39m.\u001b[39mget_artifact_uri()\u001b[39m}\u001b[39;00m\u001b[39m'\u001b[39m\u001b[39m\"\u001b[39m)\n",
      "File \u001b[0;32m/opt/anaconda3/envs/mlflow-env/lib/python3.9/site-packages/mlflow/sklearn/__init__.py:417\u001b[0m, in \u001b[0;36mlog_model\u001b[0;34m(sk_model, artifact_path, conda_env, code_paths, serialization_format, registered_model_name, signature, input_example, await_registration_for, pip_requirements, extra_pip_requirements, pyfunc_predict_fn, metadata)\u001b[0m\n\u001b[1;32m    325\u001b[0m \u001b[39m@format_docstring\u001b[39m(LOG_MODEL_PARAM_DOCS\u001b[39m.\u001b[39mformat(package_name\u001b[39m=\u001b[39m\u001b[39m\"\u001b[39m\u001b[39mscikit-learn\u001b[39m\u001b[39m\"\u001b[39m))\n\u001b[1;32m    326\u001b[0m \u001b[39mdef\u001b[39;00m \u001b[39mlog_model\u001b[39m(\n\u001b[1;32m    327\u001b[0m     sk_model,\n\u001b[0;32m   (...)\u001b[0m\n\u001b[1;32m    339\u001b[0m     metadata\u001b[39m=\u001b[39m\u001b[39mNone\u001b[39;00m,\n\u001b[1;32m    340\u001b[0m ):\n\u001b[1;32m    341\u001b[0m \u001b[39m    \u001b[39m\u001b[39m\"\"\"\u001b[39;00m\n\u001b[1;32m    342\u001b[0m \u001b[39m    Log a scikit-learn model as an MLflow artifact for the current run. Produces an MLflow Model\u001b[39;00m\n\u001b[1;32m    343\u001b[0m \u001b[39m    containing the following flavors:\u001b[39;00m\n\u001b[0;32m   (...)\u001b[0m\n\u001b[1;32m    415\u001b[0m \u001b[39m        mlflow.sklearn.log_model(sk_model, \"sk_models\")\u001b[39;00m\n\u001b[1;32m    416\u001b[0m \u001b[39m    \"\"\"\u001b[39;00m\n\u001b[0;32m--> 417\u001b[0m     \u001b[39mreturn\u001b[39;00m Model\u001b[39m.\u001b[39;49mlog(\n\u001b[1;32m    418\u001b[0m         artifact_path\u001b[39m=\u001b[39;49martifact_path,\n\u001b[1;32m    419\u001b[0m         flavor\u001b[39m=\u001b[39;49mmlflow\u001b[39m.\u001b[39;49msklearn,\n\u001b[1;32m    420\u001b[0m         sk_model\u001b[39m=\u001b[39;49msk_model,\n\u001b[1;32m    421\u001b[0m         conda_env\u001b[39m=\u001b[39;49mconda_env,\n\u001b[1;32m    422\u001b[0m         code_paths\u001b[39m=\u001b[39;49mcode_paths,\n\u001b[1;32m    423\u001b[0m         serialization_format\u001b[39m=\u001b[39;49mserialization_format,\n\u001b[1;32m    424\u001b[0m         registered_model_name\u001b[39m=\u001b[39;49mregistered_model_name,\n\u001b[1;32m    425\u001b[0m         signature\u001b[39m=\u001b[39;49msignature,\n\u001b[1;32m    426\u001b[0m         input_example\u001b[39m=\u001b[39;49minput_example,\n\u001b[1;32m    427\u001b[0m         await_registration_for\u001b[39m=\u001b[39;49mawait_registration_for,\n\u001b[1;32m    428\u001b[0m         pip_requirements\u001b[39m=\u001b[39;49mpip_requirements,\n\u001b[1;32m    429\u001b[0m         extra_pip_requirements\u001b[39m=\u001b[39;49mextra_pip_requirements,\n\u001b[1;32m    430\u001b[0m         pyfunc_predict_fn\u001b[39m=\u001b[39;49mpyfunc_predict_fn,\n\u001b[1;32m    431\u001b[0m         metadata\u001b[39m=\u001b[39;49mmetadata,\n\u001b[1;32m    432\u001b[0m     )\n",
      "File \u001b[0;32m/opt/anaconda3/envs/mlflow-env/lib/python3.9/site-packages/mlflow/models/model.py:487\u001b[0m, in \u001b[0;36mModel.log\u001b[0;34m(cls, artifact_path, flavor, registered_model_name, await_registration_for, metadata, **kwargs)\u001b[0m\n\u001b[1;32m    485\u001b[0m mlflow_model \u001b[39m=\u001b[39m \u001b[39mcls\u001b[39m(artifact_path\u001b[39m=\u001b[39martifact_path, run_id\u001b[39m=\u001b[39mrun_id, metadata\u001b[39m=\u001b[39mmetadata)\n\u001b[1;32m    486\u001b[0m flavor\u001b[39m.\u001b[39msave_model(path\u001b[39m=\u001b[39mlocal_path, mlflow_model\u001b[39m=\u001b[39mmlflow_model, \u001b[39m*\u001b[39m\u001b[39m*\u001b[39mkwargs)\n\u001b[0;32m--> 487\u001b[0m mlflow\u001b[39m.\u001b[39;49mtracking\u001b[39m.\u001b[39;49mfluent\u001b[39m.\u001b[39;49mlog_artifacts(local_path, mlflow_model\u001b[39m.\u001b[39;49martifact_path)\n\u001b[1;32m    488\u001b[0m \u001b[39mtry\u001b[39;00m:\n\u001b[1;32m    489\u001b[0m     mlflow\u001b[39m.\u001b[39mtracking\u001b[39m.\u001b[39mfluent\u001b[39m.\u001b[39m_record_logged_model(mlflow_model)\n",
      "File \u001b[0;32m/opt/anaconda3/envs/mlflow-env/lib/python3.9/site-packages/mlflow/tracking/fluent.py:810\u001b[0m, in \u001b[0;36mlog_artifacts\u001b[0;34m(local_dir, artifact_path)\u001b[0m\n\u001b[1;32m    780\u001b[0m \u001b[39m\u001b[39m\u001b[39m\"\"\"\u001b[39;00m\n\u001b[1;32m    781\u001b[0m \u001b[39mLog all the contents of a local directory as artifacts of the run. If no run is active,\u001b[39;00m\n\u001b[1;32m    782\u001b[0m \u001b[39mthis method will create a new active run.\u001b[39;00m\n\u001b[0;32m   (...)\u001b[0m\n\u001b[1;32m    807\u001b[0m \u001b[39m        mlflow.log_artifacts(\"data\", artifact_path=\"states\")\u001b[39;00m\n\u001b[1;32m    808\u001b[0m \u001b[39m\"\"\"\u001b[39;00m\n\u001b[1;32m    809\u001b[0m run_id \u001b[39m=\u001b[39m _get_or_start_run()\u001b[39m.\u001b[39minfo\u001b[39m.\u001b[39mrun_id\n\u001b[0;32m--> 810\u001b[0m MlflowClient()\u001b[39m.\u001b[39;49mlog_artifacts(run_id, local_dir, artifact_path)\n",
      "File \u001b[0;32m/opt/anaconda3/envs/mlflow-env/lib/python3.9/site-packages/mlflow/tracking/client.py:1048\u001b[0m, in \u001b[0;36mMlflowClient.log_artifacts\u001b[0;34m(self, run_id, local_dir, artifact_path)\u001b[0m\n\u001b[1;32m   1004\u001b[0m \u001b[39mdef\u001b[39;00m \u001b[39mlog_artifacts\u001b[39m(\n\u001b[1;32m   1005\u001b[0m     \u001b[39mself\u001b[39m, run_id: \u001b[39mstr\u001b[39m, local_dir: \u001b[39mstr\u001b[39m, artifact_path: Optional[\u001b[39mstr\u001b[39m] \u001b[39m=\u001b[39m \u001b[39mNone\u001b[39;00m\n\u001b[1;32m   1006\u001b[0m ) \u001b[39m-\u001b[39m\u001b[39m>\u001b[39m \u001b[39mNone\u001b[39;00m:\n\u001b[1;32m   1007\u001b[0m \u001b[39m    \u001b[39m\u001b[39m\"\"\"\u001b[39;00m\n\u001b[1;32m   1008\u001b[0m \u001b[39m    Write a directory of files to the remote ``artifact_uri``.\u001b[39;00m\n\u001b[1;32m   1009\u001b[0m \n\u001b[0;32m   (...)\u001b[0m\n\u001b[1;32m   1046\u001b[0m \u001b[39m        is_dir: True\u001b[39;00m\n\u001b[1;32m   1047\u001b[0m \u001b[39m    \"\"\"\u001b[39;00m\n\u001b[0;32m-> 1048\u001b[0m     \u001b[39mself\u001b[39;49m\u001b[39m.\u001b[39;49m_tracking_client\u001b[39m.\u001b[39;49mlog_artifacts(run_id, local_dir, artifact_path)\n",
      "File \u001b[0;32m/opt/anaconda3/envs/mlflow-env/lib/python3.9/site-packages/mlflow/tracking/_tracking_service/client.py:448\u001b[0m, in \u001b[0;36mTrackingServiceClient.log_artifacts\u001b[0;34m(self, run_id, local_dir, artifact_path)\u001b[0m\n\u001b[1;32m    441\u001b[0m \u001b[39mdef\u001b[39;00m \u001b[39mlog_artifacts\u001b[39m(\u001b[39mself\u001b[39m, run_id, local_dir, artifact_path\u001b[39m=\u001b[39m\u001b[39mNone\u001b[39;00m):\n\u001b[1;32m    442\u001b[0m \u001b[39m    \u001b[39m\u001b[39m\"\"\"\u001b[39;00m\n\u001b[1;32m    443\u001b[0m \u001b[39m    Write a directory of files to the remote ``artifact_uri``.\u001b[39;00m\n\u001b[1;32m    444\u001b[0m \n\u001b[1;32m    445\u001b[0m \u001b[39m    :param local_dir: Path to the directory of files to write.\u001b[39;00m\n\u001b[1;32m    446\u001b[0m \u001b[39m    :param artifact_path: If provided, the directory in ``artifact_uri`` to write to.\u001b[39;00m\n\u001b[1;32m    447\u001b[0m \u001b[39m    \"\"\"\u001b[39;00m\n\u001b[0;32m--> 448\u001b[0m     \u001b[39mself\u001b[39;49m\u001b[39m.\u001b[39;49m_get_artifact_repo(run_id)\u001b[39m.\u001b[39;49mlog_artifacts(local_dir, artifact_path)\n",
      "File \u001b[0;32m/opt/anaconda3/envs/mlflow-env/lib/python3.9/site-packages/mlflow/store/artifact/s3_artifact_repo.py:133\u001b[0m, in \u001b[0;36mS3ArtifactRepository.log_artifacts\u001b[0;34m(self, local_dir, artifact_path)\u001b[0m\n\u001b[1;32m    131\u001b[0m \u001b[39mif\u001b[39;00m artifact_path:\n\u001b[1;32m    132\u001b[0m     dest_path \u001b[39m=\u001b[39m posixpath\u001b[39m.\u001b[39mjoin(dest_path, artifact_path)\n\u001b[0;32m--> 133\u001b[0m s3_client \u001b[39m=\u001b[39m \u001b[39mself\u001b[39;49m\u001b[39m.\u001b[39;49m_get_s3_client()\n\u001b[1;32m    134\u001b[0m local_dir \u001b[39m=\u001b[39m os\u001b[39m.\u001b[39mpath\u001b[39m.\u001b[39mabspath(local_dir)\n\u001b[1;32m    135\u001b[0m \u001b[39mfor\u001b[39;00m (root, _, filenames) \u001b[39min\u001b[39;00m os\u001b[39m.\u001b[39mwalk(local_dir):\n",
      "File \u001b[0;32m/opt/anaconda3/envs/mlflow-env/lib/python3.9/site-packages/mlflow/store/artifact/s3_artifact_repo.py:106\u001b[0m, in \u001b[0;36mS3ArtifactRepository._get_s3_client\u001b[0;34m(self)\u001b[0m\n\u001b[1;32m    103\u001b[0m \u001b[39m# Invalidate cache every `_MAX_CACHE_SECONDS`\u001b[39;00m\n\u001b[1;32m    104\u001b[0m timestamp \u001b[39m=\u001b[39m \u001b[39mint\u001b[39m(_get_utcnow_timestamp() \u001b[39m/\u001b[39m _MAX_CACHE_SECONDS)\n\u001b[0;32m--> 106\u001b[0m \u001b[39mreturn\u001b[39;00m _cached_get_s3_client(signature_version, s3_endpoint_url, verify, timestamp)\n",
      "File \u001b[0;32m/opt/anaconda3/envs/mlflow-env/lib/python3.9/site-packages/mlflow/store/artifact/s3_artifact_repo.py:58\u001b[0m, in \u001b[0;36m_cached_get_s3_client\u001b[0;34m(signature_version, s3_endpoint_url, verify, timestamp)\u001b[0m\n\u001b[1;32m     54\u001b[0m     \u001b[39mfrom\u001b[39;00m \u001b[39mbotocore\u001b[39;00m \u001b[39mimport\u001b[39;00m UNSIGNED\n\u001b[1;32m     56\u001b[0m     signature_version \u001b[39m=\u001b[39m UNSIGNED\n\u001b[0;32m---> 58\u001b[0m \u001b[39mreturn\u001b[39;00m boto3\u001b[39m.\u001b[39;49mclient(\n\u001b[1;32m     59\u001b[0m     \u001b[39m\"\u001b[39;49m\u001b[39ms3\u001b[39;49m\u001b[39m\"\u001b[39;49m,\n\u001b[1;32m     60\u001b[0m     config\u001b[39m=\u001b[39;49mConfig(signature_version\u001b[39m=\u001b[39;49msignature_version),\n\u001b[1;32m     61\u001b[0m     endpoint_url\u001b[39m=\u001b[39;49ms3_endpoint_url,\n\u001b[1;32m     62\u001b[0m     verify\u001b[39m=\u001b[39;49mverify,\n\u001b[1;32m     63\u001b[0m )\n",
      "File \u001b[0;32m/opt/anaconda3/envs/mlflow-env/lib/python3.9/site-packages/boto3/__init__.py:92\u001b[0m, in \u001b[0;36mclient\u001b[0;34m(*args, **kwargs)\u001b[0m\n\u001b[1;32m     86\u001b[0m \u001b[39mdef\u001b[39;00m \u001b[39mclient\u001b[39m(\u001b[39m*\u001b[39margs, \u001b[39m*\u001b[39m\u001b[39m*\u001b[39mkwargs):\n\u001b[1;32m     87\u001b[0m \u001b[39m    \u001b[39m\u001b[39m\"\"\"\u001b[39;00m\n\u001b[1;32m     88\u001b[0m \u001b[39m    Create a low-level service client by name using the default session.\u001b[39;00m\n\u001b[1;32m     89\u001b[0m \n\u001b[1;32m     90\u001b[0m \u001b[39m    See :py:meth:`boto3.session.Session.client`.\u001b[39;00m\n\u001b[1;32m     91\u001b[0m \u001b[39m    \"\"\"\u001b[39;00m\n\u001b[0;32m---> 92\u001b[0m     \u001b[39mreturn\u001b[39;00m _get_default_session()\u001b[39m.\u001b[39;49mclient(\u001b[39m*\u001b[39;49margs, \u001b[39m*\u001b[39;49m\u001b[39m*\u001b[39;49mkwargs)\n",
      "File \u001b[0;32m/opt/anaconda3/envs/mlflow-env/lib/python3.9/site-packages/boto3/session.py:299\u001b[0m, in \u001b[0;36mSession.client\u001b[0;34m(self, service_name, region_name, api_version, use_ssl, verify, endpoint_url, aws_access_key_id, aws_secret_access_key, aws_session_token, config)\u001b[0m\n\u001b[1;32m    217\u001b[0m \u001b[39mdef\u001b[39;00m \u001b[39mclient\u001b[39m(\n\u001b[1;32m    218\u001b[0m     \u001b[39mself\u001b[39m,\n\u001b[1;32m    219\u001b[0m     service_name,\n\u001b[0;32m   (...)\u001b[0m\n\u001b[1;32m    228\u001b[0m     config\u001b[39m=\u001b[39m\u001b[39mNone\u001b[39;00m,\n\u001b[1;32m    229\u001b[0m ):\n\u001b[1;32m    230\u001b[0m \u001b[39m    \u001b[39m\u001b[39m\"\"\"\u001b[39;00m\n\u001b[1;32m    231\u001b[0m \u001b[39m    Create a low-level service client by name.\u001b[39;00m\n\u001b[1;32m    232\u001b[0m \n\u001b[0;32m   (...)\u001b[0m\n\u001b[1;32m    297\u001b[0m \n\u001b[1;32m    298\u001b[0m \u001b[39m    \"\"\"\u001b[39;00m\n\u001b[0;32m--> 299\u001b[0m     \u001b[39mreturn\u001b[39;00m \u001b[39mself\u001b[39;49m\u001b[39m.\u001b[39;49m_session\u001b[39m.\u001b[39;49mcreate_client(\n\u001b[1;32m    300\u001b[0m         service_name,\n\u001b[1;32m    301\u001b[0m         region_name\u001b[39m=\u001b[39;49mregion_name,\n\u001b[1;32m    302\u001b[0m         api_version\u001b[39m=\u001b[39;49mapi_version,\n\u001b[1;32m    303\u001b[0m         use_ssl\u001b[39m=\u001b[39;49muse_ssl,\n\u001b[1;32m    304\u001b[0m         verify\u001b[39m=\u001b[39;49mverify,\n\u001b[1;32m    305\u001b[0m         endpoint_url\u001b[39m=\u001b[39;49mendpoint_url,\n\u001b[1;32m    306\u001b[0m         aws_access_key_id\u001b[39m=\u001b[39;49maws_access_key_id,\n\u001b[1;32m    307\u001b[0m         aws_secret_access_key\u001b[39m=\u001b[39;49maws_secret_access_key,\n\u001b[1;32m    308\u001b[0m         aws_session_token\u001b[39m=\u001b[39;49maws_session_token,\n\u001b[1;32m    309\u001b[0m         config\u001b[39m=\u001b[39;49mconfig,\n\u001b[1;32m    310\u001b[0m     )\n",
      "File \u001b[0;32m/opt/anaconda3/envs/mlflow-env/lib/python3.9/site-packages/botocore/session.py:924\u001b[0m, in \u001b[0;36mSession.create_client\u001b[0;34m(self, service_name, region_name, api_version, use_ssl, verify, endpoint_url, aws_access_key_id, aws_secret_access_key, aws_session_token, config)\u001b[0m\n\u001b[1;32m    921\u001b[0m \u001b[39melif\u001b[39;00m default_client_config \u001b[39mis\u001b[39;00m \u001b[39mnot\u001b[39;00m \u001b[39mNone\u001b[39;00m:\n\u001b[1;32m    922\u001b[0m     config \u001b[39m=\u001b[39m default_client_config\n\u001b[0;32m--> 924\u001b[0m region_name \u001b[39m=\u001b[39m \u001b[39mself\u001b[39;49m\u001b[39m.\u001b[39;49m_resolve_region_name(region_name, config)\n\u001b[1;32m    926\u001b[0m \u001b[39m# Figure out the verify value base on the various\u001b[39;00m\n\u001b[1;32m    927\u001b[0m \u001b[39m# configuration options.\u001b[39;00m\n\u001b[1;32m    928\u001b[0m \u001b[39mif\u001b[39;00m verify \u001b[39mis\u001b[39;00m \u001b[39mNone\u001b[39;00m:\n",
      "File \u001b[0;32m/opt/anaconda3/envs/mlflow-env/lib/python3.9/site-packages/botocore/session.py:1021\u001b[0m, in \u001b[0;36mSession._resolve_region_name\u001b[0;34m(self, region_name, config)\u001b[0m\n\u001b[1;32m   1019\u001b[0m         region_name \u001b[39m=\u001b[39m config\u001b[39m.\u001b[39mregion_name\n\u001b[1;32m   1020\u001b[0m     \u001b[39melse\u001b[39;00m:\n\u001b[0;32m-> 1021\u001b[0m         region_name \u001b[39m=\u001b[39m \u001b[39mself\u001b[39;49m\u001b[39m.\u001b[39;49mget_config_variable(\u001b[39m'\u001b[39;49m\u001b[39mregion\u001b[39;49m\u001b[39m'\u001b[39;49m)\n\u001b[1;32m   1023\u001b[0m validate_region_name(region_name)\n\u001b[1;32m   1024\u001b[0m \u001b[39m# For any client that we create in retrieving credentials\u001b[39;00m\n\u001b[1;32m   1025\u001b[0m \u001b[39m# we want to create it using the same region as specified in\u001b[39;00m\n\u001b[1;32m   1026\u001b[0m \u001b[39m# creating this client. It is important to note though that the\u001b[39;00m\n\u001b[0;32m   (...)\u001b[0m\n\u001b[1;32m   1031\u001b[0m \u001b[39m# the credentials returned at regional endpoints are valid across\u001b[39;00m\n\u001b[1;32m   1032\u001b[0m \u001b[39m# all regions in the partition.\u001b[39;00m\n",
      "File \u001b[0;32m/opt/anaconda3/envs/mlflow-env/lib/python3.9/site-packages/botocore/session.py:323\u001b[0m, in \u001b[0;36mSession.get_config_variable\u001b[0;34m(self, logical_name, methods)\u001b[0m\n\u001b[1;32m    319\u001b[0m \u001b[39mif\u001b[39;00m methods \u001b[39mis\u001b[39;00m \u001b[39mnot\u001b[39;00m \u001b[39mNone\u001b[39;00m:\n\u001b[1;32m    320\u001b[0m     \u001b[39mreturn\u001b[39;00m \u001b[39mself\u001b[39m\u001b[39m.\u001b[39m_get_config_variable_with_custom_methods(\n\u001b[1;32m    321\u001b[0m         logical_name, methods\n\u001b[1;32m    322\u001b[0m     )\n\u001b[0;32m--> 323\u001b[0m \u001b[39mreturn\u001b[39;00m \u001b[39mself\u001b[39;49m\u001b[39m.\u001b[39;49mget_component(\u001b[39m'\u001b[39;49m\u001b[39mconfig_store\u001b[39;49m\u001b[39m'\u001b[39;49m)\u001b[39m.\u001b[39;49mget_config_variable(\n\u001b[1;32m    324\u001b[0m     logical_name\n\u001b[1;32m    325\u001b[0m )\n",
      "File \u001b[0;32m/opt/anaconda3/envs/mlflow-env/lib/python3.9/site-packages/botocore/configprovider.py:457\u001b[0m, in \u001b[0;36mConfigValueStore.get_config_variable\u001b[0;34m(self, logical_name)\u001b[0m\n\u001b[1;32m    455\u001b[0m     \u001b[39mreturn\u001b[39;00m \u001b[39mNone\u001b[39;00m\n\u001b[1;32m    456\u001b[0m provider \u001b[39m=\u001b[39m \u001b[39mself\u001b[39m\u001b[39m.\u001b[39m_mapping[logical_name]\n\u001b[0;32m--> 457\u001b[0m \u001b[39mreturn\u001b[39;00m provider\u001b[39m.\u001b[39;49mprovide()\n",
      "File \u001b[0;32m/opt/anaconda3/envs/mlflow-env/lib/python3.9/site-packages/botocore/configprovider.py:663\u001b[0m, in \u001b[0;36mChainProvider.provide\u001b[0;34m(self)\u001b[0m\n\u001b[1;32m    656\u001b[0m \u001b[39m\u001b[39m\u001b[39m\"\"\"Provide the value from the first provider to return non-None.\u001b[39;00m\n\u001b[1;32m    657\u001b[0m \n\u001b[1;32m    658\u001b[0m \u001b[39mEach provider in the chain has its provide method called. The first\u001b[39;00m\n\u001b[1;32m    659\u001b[0m \u001b[39mone in the chain to return a non-None value is the returned from the\u001b[39;00m\n\u001b[1;32m    660\u001b[0m \u001b[39mChainProvider. When no non-None value is found, None is returned.\u001b[39;00m\n\u001b[1;32m    661\u001b[0m \u001b[39m\"\"\"\u001b[39;00m\n\u001b[1;32m    662\u001b[0m \u001b[39mfor\u001b[39;00m provider \u001b[39min\u001b[39;00m \u001b[39mself\u001b[39m\u001b[39m.\u001b[39m_providers:\n\u001b[0;32m--> 663\u001b[0m     value \u001b[39m=\u001b[39m provider\u001b[39m.\u001b[39;49mprovide()\n\u001b[1;32m    664\u001b[0m     \u001b[39mif\u001b[39;00m value \u001b[39mis\u001b[39;00m \u001b[39mnot\u001b[39;00m \u001b[39mNone\u001b[39;00m:\n\u001b[1;32m    665\u001b[0m         \u001b[39mreturn\u001b[39;00m \u001b[39mself\u001b[39m\u001b[39m.\u001b[39m_convert_type(value)\n",
      "File \u001b[0;32m/opt/anaconda3/envs/mlflow-env/lib/python3.9/site-packages/botocore/configprovider.py:753\u001b[0m, in \u001b[0;36mScopedConfigProvider.provide\u001b[0;34m(self)\u001b[0m\n\u001b[1;32m    751\u001b[0m \u001b[39mdef\u001b[39;00m \u001b[39mprovide\u001b[39m(\u001b[39mself\u001b[39m):\n\u001b[1;32m    752\u001b[0m \u001b[39m    \u001b[39m\u001b[39m\"\"\"Provide a value from a config file property.\"\"\"\u001b[39;00m\n\u001b[0;32m--> 753\u001b[0m     scoped_config \u001b[39m=\u001b[39m \u001b[39mself\u001b[39;49m\u001b[39m.\u001b[39;49m_session\u001b[39m.\u001b[39;49mget_scoped_config()\n\u001b[1;32m    754\u001b[0m     \u001b[39mif\u001b[39;00m \u001b[39misinstance\u001b[39m(\u001b[39mself\u001b[39m\u001b[39m.\u001b[39m_config_var_name, \u001b[39mtuple\u001b[39m):\n\u001b[1;32m    755\u001b[0m         section_config \u001b[39m=\u001b[39m scoped_config\u001b[39m.\u001b[39mget(\u001b[39mself\u001b[39m\u001b[39m.\u001b[39m_config_var_name[\u001b[39m0\u001b[39m])\n",
      "File \u001b[0;32m/opt/anaconda3/envs/mlflow-env/lib/python3.9/site-packages/botocore/session.py:422\u001b[0m, in \u001b[0;36mSession.get_scoped_config\u001b[0;34m(self)\u001b[0m\n\u001b[1;32m    417\u001b[0m     \u001b[39mreturn\u001b[39;00m profile_map\u001b[39m.\u001b[39mget(\u001b[39m'\u001b[39m\u001b[39mdefault\u001b[39m\u001b[39m'\u001b[39m, {})\n\u001b[1;32m    418\u001b[0m \u001b[39melif\u001b[39;00m profile_name \u001b[39mnot\u001b[39;00m \u001b[39min\u001b[39;00m profile_map:\n\u001b[1;32m    419\u001b[0m     \u001b[39m# Otherwise if they specified a profile, it has to\u001b[39;00m\n\u001b[1;32m    420\u001b[0m     \u001b[39m# exist (even if it's the default profile) otherwise\u001b[39;00m\n\u001b[1;32m    421\u001b[0m     \u001b[39m# we complain.\u001b[39;00m\n\u001b[0;32m--> 422\u001b[0m     \u001b[39mraise\u001b[39;00m ProfileNotFound(profile\u001b[39m=\u001b[39mprofile_name)\n\u001b[1;32m    423\u001b[0m \u001b[39melse\u001b[39;00m:\n\u001b[1;32m    424\u001b[0m     \u001b[39mreturn\u001b[39;00m profile_map[profile_name]\n",
      "\u001b[0;31mProfileNotFound\u001b[0m: The config profile (Rollan) could not be found"
     ]
    }
   ],
   "source": [
    "from sklearn.linear_model import LogisticRegression\n",
    "from sklearn.datasets import load_iris\n",
    "from sklearn.metrics import accuracy_score\n",
    "\n",
    "mlflow.set_experiment(\"my-experiment-1\")\n",
    "\n",
    "with mlflow.start_run():\n",
    "\n",
    "    X, y = load_iris(return_X_y=True)\n",
    "\n",
    "    params = {\"C\": 0.1, \"random_state\": 42}\n",
    "    mlflow.log_params(params)\n",
    "\n",
    "    lr = LogisticRegression(**params).fit(X, y)\n",
    "    y_pred = lr.predict(X)\n",
    "    mlflow.log_metric(\"accuracy\", accuracy_score(y, y_pred))\n",
    "\n",
    "    mlflow.sklearn.log_model(lr, artifact_path=\"models\")\n",
    "    print(f\"default artifacts URI: '{mlflow.get_artifact_uri()}'\")"
   ]
  },
  {
   "cell_type": "code",
   "execution_count": null,
   "metadata": {},
   "outputs": [],
   "source": [
    "mlflow.list_experiments()"
   ]
  },
  {
   "cell_type": "code",
   "execution_count": null,
   "metadata": {},
   "outputs": [],
   "source": []
  },
  {
   "cell_type": "markdown",
   "metadata": {},
   "source": [
    "### Interacting with the model registry"
   ]
  },
  {
   "cell_type": "code",
   "execution_count": null,
   "metadata": {},
   "outputs": [],
   "source": [
    "from mlflow.tracking import MlflowClient\n",
    "\n",
    "\n",
    "client = MlflowClient(f\"http://{TRACKING_SERVER_HOST}:5000\")"
   ]
  },
  {
   "cell_type": "code",
   "execution_count": null,
   "metadata": {},
   "outputs": [],
   "source": [
    "client.list_registered_models()"
   ]
  },
  {
   "cell_type": "code",
   "execution_count": null,
   "metadata": {},
   "outputs": [],
   "source": [
    "run_id = client.list_run_infos(experiment_id='1')[0].run_id\n",
    "mlflow.register_model(\n",
    "    model_uri=f\"runs:/{run_id}/models\",\n",
    "    name='iris-classifier'\n",
    ")"
   ]
  },
  {
   "cell_type": "code",
   "execution_count": null,
   "metadata": {},
   "outputs": [],
   "source": []
  }
 ],
 "metadata": {
  "interpreter": {
   "hash": "0848c9d6c7d415ad6c477ff7ff8e98694d1a4aa96d0deee89244642e6b630036"
  },
  "kernelspec": {
   "display_name": "Python 3.9.12 ('exp-tracking-env')",
   "language": "python",
   "name": "python3"
  },
  "language_info": {
   "codemirror_mode": {
    "name": "ipython",
    "version": 3
   },
   "file_extension": ".py",
   "mimetype": "text/x-python",
   "name": "python",
   "nbconvert_exporter": "python",
   "pygments_lexer": "ipython3",
   "version": "3.9.15"
  },
  "orig_nbformat": 4
 },
 "nbformat": 4,
 "nbformat_minor": 2
}
