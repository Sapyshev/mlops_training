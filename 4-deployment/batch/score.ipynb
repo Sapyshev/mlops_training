{
 "cells": [
  {
   "cell_type": "code",
   "execution_count": 28,
   "metadata": {},
   "outputs": [],
   "source": [
    "import numpy as np\n",
    "import pandas as pd\n",
    "import mlflow\n",
    "import os"
   ]
  },
  {
   "cell_type": "code",
   "execution_count": 29,
   "metadata": {},
   "outputs": [],
   "source": [
    "input_file = '../../data/valid_data.csv'\n",
    "output_file = 'output/rf_predict.parquet'\n",
    "RUN_ID = os.getenv('RUN_ID',\"7f2ba2ea16c449a88f0e61b087f13fc4\")"
   ]
  },
  {
   "cell_type": "code",
   "execution_count": 30,
   "metadata": {},
   "outputs": [],
   "source": [
    "def read_df(filename: str) -> pd.DataFrame:\n",
    "    \"\"\"Read data into dataframe\"\"\"\n",
    "    df = pd.read_csv(filename, index_col=0)\n",
    "    df['vector'] = df['vector'].apply(convert)\n",
    "    return df\n",
    "\n",
    "def convert(item):\n",
    "    item = item.strip()  # remove spaces at the end\n",
    "    item = item[1:-1]    # remove `[ ]`\n",
    "    item = np.fromstring(item, sep=' ')  # convert string to `numpy.array`\n",
    "    return item"
   ]
  },
  {
   "cell_type": "code",
   "execution_count": 31,
   "metadata": {},
   "outputs": [],
   "source": [
    "def load_model(run_id):\n",
    "    logged_model = f's3://mlflow-artifacts-remote-rollan/2/{run_id}/artifacts/model'\n",
    "    model = mlflow.pyfunc.load_model(logged_model)\n",
    "    return model\n",
    "\n",
    "def apply_model(input_file, run_id, output_file):\n",
    "    df = read_df(input_file)\n",
    "    X = np.stack(df['vector'])\n",
    "\n",
    "    model = load_model(run_id)\n",
    "    y_pred = model.predict(X)\n",
    "\n",
    "    df['predict'] = y_pred\n",
    "    df['version'] = run_id\n",
    "    df.to_parquet(output_file, index=False)"
   ]
  },
  {
   "cell_type": "code",
   "execution_count": 32,
   "metadata": {},
   "outputs": [
    {
     "name": "stdout",
     "output_type": "stream",
     "text": [
      "mkdir: output: File exists\n"
     ]
    }
   ],
   "source": [
    "!mkdir output"
   ]
  },
  {
   "cell_type": "code",
   "execution_count": 33,
   "metadata": {},
   "outputs": [],
   "source": [
    "apply_model(input_file=input_file, run_id=RUN_ID, output_file=output_file)"
   ]
  }
 ],
 "metadata": {
  "kernelspec": {
   "display_name": "rollansapyshev-6C_QzAy-",
   "language": "python",
   "name": "python3"
  },
  "language_info": {
   "codemirror_mode": {
    "name": "ipython",
    "version": 3
   },
   "file_extension": ".py",
   "mimetype": "text/x-python",
   "name": "python",
   "nbconvert_exporter": "python",
   "pygments_lexer": "ipython3",
   "version": "3.11.4"
  },
  "orig_nbformat": 4
 },
 "nbformat": 4,
 "nbformat_minor": 2
}
