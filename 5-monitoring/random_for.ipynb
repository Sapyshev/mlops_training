{
 "cells": [
  {
   "cell_type": "code",
   "execution_count": 2,
   "metadata": {},
   "outputs": [],
   "source": [
    "import pickle\n",
    "import numpy as np\n",
    "import pandas as pd\n",
    "\n",
    "from evidently import ColumnMapping\n",
    "from evidently.report import Report\n",
    "from evidently.metrics import ColumnDriftMetric, DatasetDriftMetric, DatasetMissingValuesMetric\n",
    "\n",
    "from sklearn.ensemble import RandomForestClassifier\n",
    "from sklearn.metrics import mean_squared_error\n",
    "from sklearn.pipeline import make_pipeline\n",
    "\n",
    "import spacy\n",
    "\n",
    "nlp = spacy.load(\"en_core_web_lg\")"
   ]
  },
  {
   "cell_type": "markdown",
   "metadata": {},
   "source": [
    "Read and download data"
   ]
  },
  {
   "cell_type": "code",
   "execution_count": 3,
   "metadata": {},
   "outputs": [],
   "source": [
    "def read_data(filename: str) -> pd.DataFrame:\n",
    "    \"\"\"Read data into dataframe\"\"\"\n",
    "    df = pd.read_csv(filename, index_col=0)\n",
    "    df['vector'] = df['vector'].apply(convert)\n",
    "    return df\n",
    "\n",
    "def convert(item):\n",
    "    item = item.strip()  # remove spaces at the end\n",
    "    item = item[1:-1]    # remove `[ ]`\n",
    "    item = np.fromstring(item, sep=' ')  # convert string to `numpy.array`\n",
    "    return item"
   ]
  },
  {
   "cell_type": "code",
   "execution_count": 5,
   "metadata": {},
   "outputs": [],
   "source": [
    "df_train = read_data(\"../data/train_data.csv\")\n",
    "df_val = read_data(\"../data/valid_data.csv\")"
   ]
  },
  {
   "cell_type": "code",
   "execution_count": 6,
   "metadata": {},
   "outputs": [],
   "source": [
    "def add_features(df_train, df_val):\n",
    "    \"\"\"\"\"\"\n",
    "    X_train = df_train['vector']\n",
    "    y_train = df_train['label']\n",
    "\n",
    "    X_val = df_val['vector']\n",
    "    y_val = df_val['label']\n",
    "\n",
    "    X_train = np.stack(X_train)\n",
    "    y_train = np.stack(y_train)\n",
    "\n",
    "    X_val = np.stack(X_val)\n",
    "    y_val = np.stack(y_val)\n",
    "    return X_train, y_train, X_val, y_val"
   ]
  },
  {
   "cell_type": "code",
   "execution_count": 23,
   "metadata": {},
   "outputs": [],
   "source": [
    "df_train['vector'] = np.stack(df_train['vector'])"
   ]
  },
  {
   "cell_type": "code",
   "execution_count": 24,
   "metadata": {},
   "outputs": [],
   "source": [
    "df_val['vector'] = np.stack(df_val['vector'])"
   ]
  },
  {
   "cell_type": "code",
   "execution_count": 7,
   "metadata": {},
   "outputs": [],
   "source": [
    "X_train, y_train, X_val, y_val = add_features(df_train, df_val)"
   ]
  },
  {
   "cell_type": "code",
   "execution_count": 8,
   "metadata": {},
   "outputs": [
    {
     "name": "stdout",
     "output_type": "stream",
     "text": [
      "{'max_depth': 20, 'n_estimators': 100, 'min_samples_leaf': 10, 'random_state': 0} 0.10151922665097515\n"
     ]
    }
   ],
   "source": [
    "params = dict(max_depth=20, n_estimators=100, min_samples_leaf=10, random_state=0)\n",
    "\n",
    "model = RandomForestClassifier(**params, n_jobs=-1)\n",
    "\n",
    "model.fit(X_train, y_train)\n",
    "y_pred = model.predict(X_val)\n",
    "\n",
    "rmse = mean_squared_error(y_pred, y_val, squared=False)\n",
    "print(params, rmse)"
   ]
  },
  {
   "cell_type": "code",
   "execution_count": 18,
   "metadata": {},
   "outputs": [],
   "source": [
    "train_preds = model.predict(X_train)\n",
    "df_train['prediction'] = train_preds"
   ]
  },
  {
   "cell_type": "code",
   "execution_count": 15,
   "metadata": {},
   "outputs": [],
   "source": [
    "df_val['prediction'] = y_pred"
   ]
  },
  {
   "cell_type": "code",
   "execution_count": 11,
   "metadata": {},
   "outputs": [],
   "source": [
    "with open('models/rf.bin', 'wb') as f_out:\n",
    "    pickle.dump(model, f_out)"
   ]
  },
  {
   "cell_type": "code",
   "execution_count": 13,
   "metadata": {},
   "outputs": [],
   "source": [
    "df_val.to_parquet('data/reference.parquet')"
   ]
  },
  {
   "cell_type": "markdown",
   "metadata": {},
   "source": [
    "Evidently report"
   ]
  },
  {
   "cell_type": "code",
   "execution_count": 35,
   "metadata": {},
   "outputs": [],
   "source": [
    "column_mapping = ColumnMapping(\n",
    "    target = 'label',\n",
    "    prediction = 'prediction',\n",
    "    text_features = 'vector',\n",
    "    numerical_features = [],\n",
    "    categorical_features = []\n",
    ")"
   ]
  },
  {
   "cell_type": "code",
   "execution_count": 36,
   "metadata": {},
   "outputs": [],
   "source": [
    "report = Report(metrics=[\n",
    "    ColumnDriftMetric(column_name=\"prediction\"),\n",
    "    DatasetDriftMetric(),\n",
    "    DatasetMissingValuesMetric()\n",
    "])"
   ]
  },
  {
   "cell_type": "code",
   "execution_count": 20,
   "metadata": {},
   "outputs": [
    {
     "data": {
      "text/html": [
       "<div>\n",
       "<style scoped>\n",
       "    .dataframe tbody tr th:only-of-type {\n",
       "        vertical-align: middle;\n",
       "    }\n",
       "\n",
       "    .dataframe tbody tr th {\n",
       "        vertical-align: top;\n",
       "    }\n",
       "\n",
       "    .dataframe thead th {\n",
       "        text-align: right;\n",
       "    }\n",
       "</style>\n",
       "<table border=\"1\" class=\"dataframe\">\n",
       "  <thead>\n",
       "    <tr style=\"text-align: right;\">\n",
       "      <th></th>\n",
       "      <th>vector</th>\n",
       "      <th>label</th>\n",
       "      <th>prediction</th>\n",
       "    </tr>\n",
       "  </thead>\n",
       "  <tbody>\n",
       "    <tr>\n",
       "      <th>22178</th>\n",
       "      <td>[0.7785875, -2.5283103, 2.5746224, 0.547385, 3...</td>\n",
       "      <td>0</td>\n",
       "      <td>0</td>\n",
       "    </tr>\n",
       "    <tr>\n",
       "      <th>13814</th>\n",
       "      <td>[0.70389611, -2.2027533, 1.3356761, -0.9061375...</td>\n",
       "      <td>0</td>\n",
       "      <td>0</td>\n",
       "    </tr>\n",
       "    <tr>\n",
       "      <th>21765</th>\n",
       "      <td>[0.55377287, -1.3223277, 0.03835047, -1.590861...</td>\n",
       "      <td>0</td>\n",
       "      <td>0</td>\n",
       "    </tr>\n",
       "  </tbody>\n",
       "</table>\n",
       "</div>"
      ],
      "text/plain": [
       "                                                  vector  label  prediction\n",
       "22178  [0.7785875, -2.5283103, 2.5746224, 0.547385, 3...      0           0\n",
       "13814  [0.70389611, -2.2027533, 1.3356761, -0.9061375...      0           0\n",
       "21765  [0.55377287, -1.3223277, 0.03835047, -1.590861...      0           0"
      ]
     },
     "execution_count": 20,
     "metadata": {},
     "output_type": "execute_result"
    }
   ],
   "source": [
    "df_train.head(3)"
   ]
  },
  {
   "cell_type": "code",
   "execution_count": 37,
   "metadata": {},
   "outputs": [
    {
     "ename": "ValidationError",
     "evalue": "1 validation error for DatasetColumns\ntext_feature_names\n  value is not a valid list (type=type_error.list)",
     "output_type": "error",
     "traceback": [
      "\u001b[0;31m---------------------------------------------------------------------------\u001b[0m",
      "\u001b[0;31mValidationError\u001b[0m                           Traceback (most recent call last)",
      "Cell \u001b[0;32mIn[37], line 1\u001b[0m\n\u001b[0;32m----> 1\u001b[0m report\u001b[39m.\u001b[39;49mrun(reference_data \u001b[39m=\u001b[39;49m df_train, current_data \u001b[39m=\u001b[39;49m df_val, column_mapping \u001b[39m=\u001b[39;49m column_mapping)\n",
      "File \u001b[0;32m~/miniconda3/envs/zoomcamp/lib/python3.11/site-packages/evidently/report/report.py:83\u001b[0m, in \u001b[0;36mReport.run\u001b[0;34m(self, reference_data, current_data, column_mapping)\u001b[0m\n\u001b[1;32m     80\u001b[0m \u001b[39mif\u001b[39;00m current_data \u001b[39mis\u001b[39;00m \u001b[39mNone\u001b[39;00m:\n\u001b[1;32m     81\u001b[0m     \u001b[39mraise\u001b[39;00m \u001b[39mValueError\u001b[39;00m(\u001b[39m\"\u001b[39m\u001b[39mCurrent dataset should be present\u001b[39m\u001b[39m\"\u001b[39m)\n\u001b[0;32m---> 83\u001b[0m \u001b[39mself\u001b[39m\u001b[39m.\u001b[39m_columns_info \u001b[39m=\u001b[39m process_columns(current_data, column_mapping)\n\u001b[1;32m     84\u001b[0m \u001b[39mself\u001b[39m\u001b[39m.\u001b[39m_inner_suite\u001b[39m.\u001b[39mreset()\n\u001b[1;32m     85\u001b[0m \u001b[39mself\u001b[39m\u001b[39m.\u001b[39m_inner_suite\u001b[39m.\u001b[39mverify()\n",
      "File \u001b[0;32m~/miniconda3/envs/zoomcamp/lib/python3.11/site-packages/evidently/utils/data_operations.py:103\u001b[0m, in \u001b[0;36mprocess_columns\u001b[0;34m(dataset, column_mapping)\u001b[0m\n\u001b[1;32m    100\u001b[0m \u001b[39melse\u001b[39;00m:\n\u001b[1;32m    101\u001b[0m     cat_feature_names \u001b[39m=\u001b[39m dataset[cat_feature_names]\u001b[39m.\u001b[39mcolumns\u001b[39m.\u001b[39mtolist()\n\u001b[0;32m--> 103\u001b[0m \u001b[39mreturn\u001b[39;00m DatasetColumns(\n\u001b[1;32m    104\u001b[0m     utility_columns\u001b[39m=\u001b[39;49mDatasetUtilityColumns(\n\u001b[1;32m    105\u001b[0m         date\u001b[39m=\u001b[39;49mdate_column, \u001b[39mid\u001b[39;49m\u001b[39m=\u001b[39;49mid_column, target\u001b[39m=\u001b[39;49mtarget_column, prediction\u001b[39m=\u001b[39;49mprediction_column\n\u001b[1;32m    106\u001b[0m     ),\n\u001b[1;32m    107\u001b[0m     target_type\u001b[39m=\u001b[39;49mtarget_type,\n\u001b[1;32m    108\u001b[0m     num_feature_names\u001b[39m=\u001b[39;49mnum_feature_names \u001b[39mor\u001b[39;49;00m [],\n\u001b[1;32m    109\u001b[0m     cat_feature_names\u001b[39m=\u001b[39;49mcat_feature_names \u001b[39mor\u001b[39;49;00m [],\n\u001b[1;32m    110\u001b[0m     datetime_feature_names\u001b[39m=\u001b[39;49mdatetime_feature_names \u001b[39mor\u001b[39;49;00m [],\n\u001b[1;32m    111\u001b[0m     target_names\u001b[39m=\u001b[39;49mtarget_names,\n\u001b[1;32m    112\u001b[0m     task\u001b[39m=\u001b[39;49mtask,\n\u001b[1;32m    113\u001b[0m     text_feature_names\u001b[39m=\u001b[39;49mtext_feature_names \u001b[39mor\u001b[39;49;00m [],\n\u001b[1;32m    114\u001b[0m )\n",
      "File \u001b[0;32m~/miniconda3/envs/zoomcamp/lib/python3.11/site-packages/pydantic/main.py:341\u001b[0m, in \u001b[0;36mpydantic.main.BaseModel.__init__\u001b[0;34m()\u001b[0m\n",
      "\u001b[0;31mValidationError\u001b[0m: 1 validation error for DatasetColumns\ntext_feature_names\n  value is not a valid list (type=type_error.list)"
     ]
    }
   ],
   "source": [
    "report.run(reference_data = df_train, current_data = df_val, column_mapping = column_mapping)"
   ]
  },
  {
   "cell_type": "code",
   "execution_count": 28,
   "metadata": {},
   "outputs": [
    {
     "ename": "ValueError",
     "evalue": "could not broadcast input array from shape (300,9897) into shape (1,9897)",
     "output_type": "error",
     "traceback": [
      "\u001b[0;31m---------------------------------------------------------------------------\u001b[0m",
      "\u001b[0;31mValueError\u001b[0m                                Traceback (most recent call last)",
      "Cell \u001b[0;32mIn[28], line 1\u001b[0m\n\u001b[0;32m----> 1\u001b[0m report\u001b[39m.\u001b[39;49mas_dict()\n",
      "File \u001b[0;32m~/miniconda3/envs/zoomcamp/lib/python3.11/site-packages/evidently/report/report.py:159\u001b[0m, in \u001b[0;36mReport.as_dict\u001b[0;34m(self, include_render, include, exclude, **kwargs)\u001b[0m\n\u001b[1;32m    154\u001b[0m     renderer \u001b[39m=\u001b[39m find_metric_renderer(\u001b[39mtype\u001b[39m(metric), \u001b[39mself\u001b[39m\u001b[39m.\u001b[39m_inner_suite\u001b[39m.\u001b[39mcontext\u001b[39m.\u001b[39mrenderers)\n\u001b[1;32m    155\u001b[0m     metric_id \u001b[39m=\u001b[39m metric\u001b[39m.\u001b[39mget_id()\n\u001b[1;32m    156\u001b[0m     metrics\u001b[39m.\u001b[39mappend(\n\u001b[1;32m    157\u001b[0m         {\n\u001b[1;32m    158\u001b[0m             \u001b[39m\"\u001b[39m\u001b[39mmetric\u001b[39m\u001b[39m\"\u001b[39m: metric_id,\n\u001b[0;32m--> 159\u001b[0m             \u001b[39m\"\u001b[39m\u001b[39mresult\u001b[39m\u001b[39m\"\u001b[39m: renderer\u001b[39m.\u001b[39;49mrender_json(\n\u001b[1;32m    160\u001b[0m                 metric,\n\u001b[1;32m    161\u001b[0m                 include_render\u001b[39m=\u001b[39;49minclude_render,\n\u001b[1;32m    162\u001b[0m                 include\u001b[39m=\u001b[39;49minclude\u001b[39m.\u001b[39;49mget(metric_id),\n\u001b[1;32m    163\u001b[0m                 exclude\u001b[39m=\u001b[39;49mexclude\u001b[39m.\u001b[39;49mget(metric_id),\n\u001b[1;32m    164\u001b[0m             ),\n\u001b[1;32m    165\u001b[0m         }\n\u001b[1;32m    166\u001b[0m     )\n\u001b[1;32m    168\u001b[0m \u001b[39mreturn\u001b[39;00m {\n\u001b[1;32m    169\u001b[0m     \u001b[39m\"\u001b[39m\u001b[39mmetrics\u001b[39m\u001b[39m\"\u001b[39m: metrics,\n\u001b[1;32m    170\u001b[0m }\n",
      "File \u001b[0;32m~/miniconda3/envs/zoomcamp/lib/python3.11/site-packages/evidently/renderers/base_renderer.py:44\u001b[0m, in \u001b[0;36mMetricRenderer.render_json\u001b[0;34m(self, obj, include_render, include, exclude)\u001b[0m\n\u001b[1;32m     37\u001b[0m \u001b[39mdef\u001b[39;00m \u001b[39mrender_json\u001b[39m(\n\u001b[1;32m     38\u001b[0m     \u001b[39mself\u001b[39m,\n\u001b[1;32m     39\u001b[0m     obj: \u001b[39m\"\u001b[39m\u001b[39mMetric[TResult]\u001b[39m\u001b[39m\"\u001b[39m,\n\u001b[0;32m   (...)\u001b[0m\n\u001b[1;32m     42\u001b[0m     exclude: \u001b[39m\"\u001b[39m\u001b[39mIncludeOptions\u001b[39m\u001b[39m\"\u001b[39m \u001b[39m=\u001b[39m \u001b[39mNone\u001b[39;00m,\n\u001b[1;32m     43\u001b[0m ) \u001b[39m-\u001b[39m\u001b[39m>\u001b[39m \u001b[39mdict\u001b[39m:\n\u001b[0;32m---> 44\u001b[0m     result \u001b[39m=\u001b[39m obj\u001b[39m.\u001b[39;49mget_result()\n\u001b[1;32m     45\u001b[0m     \u001b[39mreturn\u001b[39;00m result\u001b[39m.\u001b[39mget_dict(include_render\u001b[39m=\u001b[39minclude_render, include\u001b[39m=\u001b[39minclude, exclude\u001b[39m=\u001b[39mexclude)\n",
      "File \u001b[0;32m~/miniconda3/envs/zoomcamp/lib/python3.11/site-packages/evidently/base_metric.py:211\u001b[0m, in \u001b[0;36mMetric.get_result\u001b[0;34m(self)\u001b[0m\n\u001b[1;32m    209\u001b[0m result \u001b[39m=\u001b[39m \u001b[39mself\u001b[39m\u001b[39m.\u001b[39m_context\u001b[39m.\u001b[39mmetric_results\u001b[39m.\u001b[39mget(\u001b[39mself\u001b[39m, \u001b[39mNone\u001b[39;00m)\n\u001b[1;32m    210\u001b[0m \u001b[39mif\u001b[39;00m \u001b[39misinstance\u001b[39m(result, ErrorResult):\n\u001b[0;32m--> 211\u001b[0m     \u001b[39mraise\u001b[39;00m result\u001b[39m.\u001b[39mexception\n\u001b[1;32m    212\u001b[0m \u001b[39mif\u001b[39;00m result \u001b[39mis\u001b[39;00m \u001b[39mNone\u001b[39;00m:\n\u001b[1;32m    213\u001b[0m     \u001b[39mraise\u001b[39;00m \u001b[39mValueError\u001b[39;00m(\u001b[39mf\u001b[39m\u001b[39m\"\u001b[39m\u001b[39mNo result found for metric \u001b[39m\u001b[39m{\u001b[39;00m\u001b[39mself\u001b[39m\u001b[39m}\u001b[39;00m\u001b[39m of type \u001b[39m\u001b[39m{\u001b[39;00m\u001b[39mtype\u001b[39m(\u001b[39mself\u001b[39m)\u001b[39m.\u001b[39m\u001b[39m__name__\u001b[39m\u001b[39m}\u001b[39;00m\u001b[39m\"\u001b[39m)\n",
      "    \u001b[0;31m[... skipping hidden 1 frame]\u001b[0m\n",
      "Cell \u001b[0;32mIn[27], line 1\u001b[0m\n\u001b[0;32m----> 1\u001b[0m report\u001b[39m.\u001b[39;49mshow(mode\u001b[39m=\u001b[39;49m\u001b[39m'\u001b[39;49m\u001b[39minline\u001b[39;49m\u001b[39m'\u001b[39;49m)\n",
      "File \u001b[0;32m~/miniconda3/envs/zoomcamp/lib/python3.11/site-packages/evidently/suite/base_suite.py:163\u001b[0m, in \u001b[0;36mDisplay.show\u001b[0;34m(self, mode)\u001b[0m\n\u001b[1;32m    162\u001b[0m \u001b[39mdef\u001b[39;00m \u001b[39mshow\u001b[39m(\u001b[39mself\u001b[39m, mode\u001b[39m=\u001b[39m\u001b[39m\"\u001b[39m\u001b[39mauto\u001b[39m\u001b[39m\"\u001b[39m):\n\u001b[0;32m--> 163\u001b[0m     dashboard_id, dashboard_info, graphs \u001b[39m=\u001b[39m \u001b[39mself\u001b[39;49m\u001b[39m.\u001b[39;49m_build_dashboard_info()\n\u001b[1;32m    164\u001b[0m     template_params \u001b[39m=\u001b[39m TemplateParams(\n\u001b[1;32m    165\u001b[0m         dashboard_id\u001b[39m=\u001b[39mdashboard_id,\n\u001b[1;32m    166\u001b[0m         dashboard_info\u001b[39m=\u001b[39mdashboard_info,\n\u001b[1;32m    167\u001b[0m         additional_graphs\u001b[39m=\u001b[39mgraphs,\n\u001b[1;32m    168\u001b[0m     )\n\u001b[1;32m    169\u001b[0m     \u001b[39m# pylint: disable=import-outside-toplevel\u001b[39;00m\n",
      "File \u001b[0;32m~/miniconda3/envs/zoomcamp/lib/python3.11/site-packages/evidently/report/report.py:201\u001b[0m, in \u001b[0;36mReport._build_dashboard_info\u001b[0;34m(self)\u001b[0m\n\u001b[1;32m    199\u001b[0m \u001b[39m# set the color scheme from the report for each render\u001b[39;00m\n\u001b[1;32m    200\u001b[0m renderer\u001b[39m.\u001b[39mcolor_options \u001b[39m=\u001b[39m color_options\n\u001b[0;32m--> 201\u001b[0m html_info \u001b[39m=\u001b[39m renderer\u001b[39m.\u001b[39;49mrender_html(test)\n\u001b[1;32m    203\u001b[0m \u001b[39mfor\u001b[39;00m info_item \u001b[39min\u001b[39;00m html_info:\n\u001b[1;32m    204\u001b[0m     \u001b[39mfor\u001b[39;00m additional_graph \u001b[39min\u001b[39;00m info_item\u001b[39m.\u001b[39mget_additional_graphs():\n",
      "File \u001b[0;32m~/miniconda3/envs/zoomcamp/lib/python3.11/site-packages/evidently/metrics/data_integrity/dataset_missing_values_metric.py:295\u001b[0m, in \u001b[0;36mDatasetMissingValuesMetricRenderer.render_html\u001b[0;34m(self, obj)\u001b[0m\n\u001b[1;32m    294\u001b[0m \u001b[39mdef\u001b[39;00m \u001b[39mrender_html\u001b[39m(\u001b[39mself\u001b[39m, obj: DatasetMissingValuesMetric) \u001b[39m-\u001b[39m\u001b[39m>\u001b[39m List[BaseWidgetInfo]:\n\u001b[0;32m--> 295\u001b[0m     metric_result \u001b[39m=\u001b[39m obj\u001b[39m.\u001b[39;49mget_result()\n\u001b[1;32m    296\u001b[0m     result \u001b[39m=\u001b[39m [\n\u001b[1;32m    297\u001b[0m         header_text(label\u001b[39m=\u001b[39m\u001b[39m\"\u001b[39m\u001b[39mDataset Missing Values\u001b[39m\u001b[39m\"\u001b[39m),\n\u001b[1;32m    298\u001b[0m         \u001b[39mself\u001b[39m\u001b[39m.\u001b[39m_get_overall_missing_values_info(metric_result),\n\u001b[1;32m    299\u001b[0m         \u001b[39mself\u001b[39m\u001b[39m.\u001b[39m_get_table_stat(dataset_name\u001b[39m=\u001b[39m\u001b[39m\"\u001b[39m\u001b[39mcurrent\u001b[39m\u001b[39m\"\u001b[39m, stats\u001b[39m=\u001b[39mmetric_result\u001b[39m.\u001b[39mcurrent),\n\u001b[1;32m    300\u001b[0m     ]\n\u001b[1;32m    302\u001b[0m     \u001b[39mif\u001b[39;00m metric_result\u001b[39m.\u001b[39mreference \u001b[39mis\u001b[39;00m \u001b[39mnot\u001b[39;00m \u001b[39mNone\u001b[39;00m:\n",
      "File \u001b[0;32m~/miniconda3/envs/zoomcamp/lib/python3.11/site-packages/evidently/base_metric.py:211\u001b[0m, in \u001b[0;36mMetric.get_result\u001b[0;34m(self)\u001b[0m\n\u001b[1;32m    209\u001b[0m result \u001b[39m=\u001b[39m \u001b[39mself\u001b[39m\u001b[39m.\u001b[39m_context\u001b[39m.\u001b[39mmetric_results\u001b[39m.\u001b[39mget(\u001b[39mself\u001b[39m, \u001b[39mNone\u001b[39;00m)\n\u001b[1;32m    210\u001b[0m \u001b[39mif\u001b[39;00m \u001b[39misinstance\u001b[39m(result, ErrorResult):\n\u001b[0;32m--> 211\u001b[0m     \u001b[39mraise\u001b[39;00m result\u001b[39m.\u001b[39mexception\n\u001b[1;32m    212\u001b[0m \u001b[39mif\u001b[39;00m result \u001b[39mis\u001b[39;00m \u001b[39mNone\u001b[39;00m:\n\u001b[1;32m    213\u001b[0m     \u001b[39mraise\u001b[39;00m \u001b[39mValueError\u001b[39;00m(\u001b[39mf\u001b[39m\u001b[39m\"\u001b[39m\u001b[39mNo result found for metric \u001b[39m\u001b[39m{\u001b[39;00m\u001b[39mself\u001b[39m\u001b[39m}\u001b[39;00m\u001b[39m of type \u001b[39m\u001b[39m{\u001b[39;00m\u001b[39mtype\u001b[39m(\u001b[39mself\u001b[39m)\u001b[39m.\u001b[39m\u001b[39m__name__\u001b[39m\u001b[39m}\u001b[39;00m\u001b[39m\"\u001b[39m)\n",
      "    \u001b[0;31m[... skipping hidden 1 frame]\u001b[0m\n",
      "Cell \u001b[0;32mIn[26], line 1\u001b[0m\n\u001b[0;32m----> 1\u001b[0m report\u001b[39m.\u001b[39;49mshow()\n",
      "File \u001b[0;32m~/miniconda3/envs/zoomcamp/lib/python3.11/site-packages/evidently/suite/base_suite.py:163\u001b[0m, in \u001b[0;36mDisplay.show\u001b[0;34m(self, mode)\u001b[0m\n\u001b[1;32m    162\u001b[0m \u001b[39mdef\u001b[39;00m \u001b[39mshow\u001b[39m(\u001b[39mself\u001b[39m, mode\u001b[39m=\u001b[39m\u001b[39m\"\u001b[39m\u001b[39mauto\u001b[39m\u001b[39m\"\u001b[39m):\n\u001b[0;32m--> 163\u001b[0m     dashboard_id, dashboard_info, graphs \u001b[39m=\u001b[39m \u001b[39mself\u001b[39;49m\u001b[39m.\u001b[39;49m_build_dashboard_info()\n\u001b[1;32m    164\u001b[0m     template_params \u001b[39m=\u001b[39m TemplateParams(\n\u001b[1;32m    165\u001b[0m         dashboard_id\u001b[39m=\u001b[39mdashboard_id,\n\u001b[1;32m    166\u001b[0m         dashboard_info\u001b[39m=\u001b[39mdashboard_info,\n\u001b[1;32m    167\u001b[0m         additional_graphs\u001b[39m=\u001b[39mgraphs,\n\u001b[1;32m    168\u001b[0m     )\n\u001b[1;32m    169\u001b[0m     \u001b[39m# pylint: disable=import-outside-toplevel\u001b[39;00m\n",
      "File \u001b[0;32m~/miniconda3/envs/zoomcamp/lib/python3.11/site-packages/evidently/report/report.py:201\u001b[0m, in \u001b[0;36mReport._build_dashboard_info\u001b[0;34m(self)\u001b[0m\n\u001b[1;32m    199\u001b[0m \u001b[39m# set the color scheme from the report for each render\u001b[39;00m\n\u001b[1;32m    200\u001b[0m renderer\u001b[39m.\u001b[39mcolor_options \u001b[39m=\u001b[39m color_options\n\u001b[0;32m--> 201\u001b[0m html_info \u001b[39m=\u001b[39m renderer\u001b[39m.\u001b[39;49mrender_html(test)\n\u001b[1;32m    203\u001b[0m \u001b[39mfor\u001b[39;00m info_item \u001b[39min\u001b[39;00m html_info:\n\u001b[1;32m    204\u001b[0m     \u001b[39mfor\u001b[39;00m additional_graph \u001b[39min\u001b[39;00m info_item\u001b[39m.\u001b[39mget_additional_graphs():\n",
      "File \u001b[0;32m~/miniconda3/envs/zoomcamp/lib/python3.11/site-packages/evidently/metrics/data_integrity/dataset_missing_values_metric.py:295\u001b[0m, in \u001b[0;36mDatasetMissingValuesMetricRenderer.render_html\u001b[0;34m(self, obj)\u001b[0m\n\u001b[1;32m    294\u001b[0m \u001b[39mdef\u001b[39;00m \u001b[39mrender_html\u001b[39m(\u001b[39mself\u001b[39m, obj: DatasetMissingValuesMetric) \u001b[39m-\u001b[39m\u001b[39m>\u001b[39m List[BaseWidgetInfo]:\n\u001b[0;32m--> 295\u001b[0m     metric_result \u001b[39m=\u001b[39m obj\u001b[39m.\u001b[39;49mget_result()\n\u001b[1;32m    296\u001b[0m     result \u001b[39m=\u001b[39m [\n\u001b[1;32m    297\u001b[0m         header_text(label\u001b[39m=\u001b[39m\u001b[39m\"\u001b[39m\u001b[39mDataset Missing Values\u001b[39m\u001b[39m\"\u001b[39m),\n\u001b[1;32m    298\u001b[0m         \u001b[39mself\u001b[39m\u001b[39m.\u001b[39m_get_overall_missing_values_info(metric_result),\n\u001b[1;32m    299\u001b[0m         \u001b[39mself\u001b[39m\u001b[39m.\u001b[39m_get_table_stat(dataset_name\u001b[39m=\u001b[39m\u001b[39m\"\u001b[39m\u001b[39mcurrent\u001b[39m\u001b[39m\"\u001b[39m, stats\u001b[39m=\u001b[39mmetric_result\u001b[39m.\u001b[39mcurrent),\n\u001b[1;32m    300\u001b[0m     ]\n\u001b[1;32m    302\u001b[0m     \u001b[39mif\u001b[39;00m metric_result\u001b[39m.\u001b[39mreference \u001b[39mis\u001b[39;00m \u001b[39mnot\u001b[39;00m \u001b[39mNone\u001b[39;00m:\n",
      "File \u001b[0;32m~/miniconda3/envs/zoomcamp/lib/python3.11/site-packages/evidently/base_metric.py:211\u001b[0m, in \u001b[0;36mMetric.get_result\u001b[0;34m(self)\u001b[0m\n\u001b[1;32m    209\u001b[0m result \u001b[39m=\u001b[39m \u001b[39mself\u001b[39m\u001b[39m.\u001b[39m_context\u001b[39m.\u001b[39mmetric_results\u001b[39m.\u001b[39mget(\u001b[39mself\u001b[39m, \u001b[39mNone\u001b[39;00m)\n\u001b[1;32m    210\u001b[0m \u001b[39mif\u001b[39;00m \u001b[39misinstance\u001b[39m(result, ErrorResult):\n\u001b[0;32m--> 211\u001b[0m     \u001b[39mraise\u001b[39;00m result\u001b[39m.\u001b[39mexception\n\u001b[1;32m    212\u001b[0m \u001b[39mif\u001b[39;00m result \u001b[39mis\u001b[39;00m \u001b[39mNone\u001b[39;00m:\n\u001b[1;32m    213\u001b[0m     \u001b[39mraise\u001b[39;00m \u001b[39mValueError\u001b[39;00m(\u001b[39mf\u001b[39m\u001b[39m\"\u001b[39m\u001b[39mNo result found for metric \u001b[39m\u001b[39m{\u001b[39;00m\u001b[39mself\u001b[39m\u001b[39m}\u001b[39;00m\u001b[39m of type \u001b[39m\u001b[39m{\u001b[39;00m\u001b[39mtype\u001b[39m(\u001b[39mself\u001b[39m)\u001b[39m.\u001b[39m\u001b[39m__name__\u001b[39m\u001b[39m}\u001b[39;00m\u001b[39m\"\u001b[39m)\n",
      "File \u001b[0;32m~/miniconda3/envs/zoomcamp/lib/python3.11/site-packages/evidently/suite/base_suite.py:372\u001b[0m, in \u001b[0;36mSuite.run_calculate\u001b[0;34m(self, data)\u001b[0m\n\u001b[1;32m    370\u001b[0m logging\u001b[39m.\u001b[39mdebug(\u001b[39mf\u001b[39m\u001b[39m\"\u001b[39m\u001b[39mExecuting \u001b[39m\u001b[39m{\u001b[39;00m\u001b[39mtype\u001b[39m(calculation)\u001b[39m}\u001b[39;00m\u001b[39m...\u001b[39m\u001b[39m\"\u001b[39m)\n\u001b[1;32m    371\u001b[0m \u001b[39mtry\u001b[39;00m:\n\u001b[0;32m--> 372\u001b[0m     calculations[calculation] \u001b[39m=\u001b[39m calculation\u001b[39m.\u001b[39;49mcalculate(data)\n\u001b[1;32m    373\u001b[0m \u001b[39mexcept\u001b[39;00m \u001b[39mBaseException\u001b[39;00m \u001b[39mas\u001b[39;00m ex:\n\u001b[1;32m    374\u001b[0m     calculations[calculation] \u001b[39m=\u001b[39m ErrorResult(exception\u001b[39m=\u001b[39mex)\n",
      "File \u001b[0;32m~/miniconda3/envs/zoomcamp/lib/python3.11/site-packages/evidently/metrics/data_integrity/dataset_missing_values_metric.py:222\u001b[0m, in \u001b[0;36mDatasetMissingValuesMetric.calculate\u001b[0;34m(self, data)\u001b[0m\n\u001b[1;32m    219\u001b[0m \u001b[39mif\u001b[39;00m \u001b[39mnot\u001b[39;00m \u001b[39mself\u001b[39m\u001b[39m.\u001b[39mmissing_values:\n\u001b[1;32m    220\u001b[0m     \u001b[39mraise\u001b[39;00m \u001b[39mValueError\u001b[39;00m(\u001b[39m\"\u001b[39m\u001b[39mMissing values list should not be empty.\u001b[39m\u001b[39m\"\u001b[39m)\n\u001b[0;32m--> 222\u001b[0m current_missing_values \u001b[39m=\u001b[39m \u001b[39mself\u001b[39;49m\u001b[39m.\u001b[39;49m_calculate_missing_values_stats(data\u001b[39m.\u001b[39;49mcurrent_data)\n\u001b[1;32m    224\u001b[0m \u001b[39mif\u001b[39;00m data\u001b[39m.\u001b[39mreference_data \u001b[39mis\u001b[39;00m \u001b[39mnot\u001b[39;00m \u001b[39mNone\u001b[39;00m:\n\u001b[1;32m    225\u001b[0m     reference_missing_values: Optional[DatasetMissingValues] \u001b[39m=\u001b[39m \u001b[39mself\u001b[39m\u001b[39m.\u001b[39m_calculate_missing_values_stats(\n\u001b[1;32m    226\u001b[0m         data\u001b[39m.\u001b[39mreference_data\n\u001b[1;32m    227\u001b[0m     )\n",
      "File \u001b[0;32m~/miniconda3/envs/zoomcamp/lib/python3.11/site-packages/evidently/metrics/data_integrity/dataset_missing_values_metric.py:158\u001b[0m, in \u001b[0;36mDatasetMissingValuesMetric._calculate_missing_values_stats\u001b[0;34m(self, dataset)\u001b[0m\n\u001b[1;32m    155\u001b[0m             \u001b[39m# add the column to set of columns with a missing value\u001b[39;00m\n\u001b[1;32m    156\u001b[0m             columns_with_missing_values\u001b[39m.\u001b[39madd(column_name)\n\u001b[0;32m--> 158\u001b[0m \u001b[39mfor\u001b[39;00m _, row \u001b[39min\u001b[39;00m dataset\u001b[39m.\u001b[39miterrows():\n\u001b[1;32m    159\u001b[0m     \u001b[39mfor\u001b[39;00m missing_value \u001b[39min\u001b[39;00m \u001b[39mself\u001b[39m\u001b[39m.\u001b[39mmissing_values:\n\u001b[1;32m    160\u001b[0m         \u001b[39mif\u001b[39;00m \u001b[39mNone\u001b[39;00m \u001b[39min\u001b[39;00m \u001b[39mself\u001b[39m\u001b[39m.\u001b[39mmissing_values \u001b[39mand\u001b[39;00m row\u001b[39m.\u001b[39misnull()\u001b[39m.\u001b[39many():\n\u001b[1;32m    161\u001b[0m             \u001b[39m# check pandas null values\u001b[39;00m\n",
      "File \u001b[0;32m~/miniconda3/envs/zoomcamp/lib/python3.11/site-packages/pandas/core/frame.py:1399\u001b[0m, in \u001b[0;36mDataFrame.iterrows\u001b[0;34m(self)\u001b[0m\n\u001b[1;32m   1397\u001b[0m klass \u001b[39m=\u001b[39m \u001b[39mself\u001b[39m\u001b[39m.\u001b[39m_constructor_sliced\n\u001b[1;32m   1398\u001b[0m using_cow \u001b[39m=\u001b[39m using_copy_on_write()\n\u001b[0;32m-> 1399\u001b[0m \u001b[39mfor\u001b[39;00m k, v \u001b[39min\u001b[39;00m \u001b[39mzip\u001b[39m(\u001b[39mself\u001b[39m\u001b[39m.\u001b[39mindex, \u001b[39mself\u001b[39;49m\u001b[39m.\u001b[39;49mvalues):\n\u001b[1;32m   1400\u001b[0m     s \u001b[39m=\u001b[39m klass(v, index\u001b[39m=\u001b[39mcolumns, name\u001b[39m=\u001b[39mk)\u001b[39m.\u001b[39m__finalize__(\u001b[39mself\u001b[39m)\n\u001b[1;32m   1401\u001b[0m     \u001b[39mif\u001b[39;00m using_cow \u001b[39mand\u001b[39;00m \u001b[39mself\u001b[39m\u001b[39m.\u001b[39m_mgr\u001b[39m.\u001b[39mis_single_block:\n",
      "File \u001b[0;32m~/miniconda3/envs/zoomcamp/lib/python3.11/site-packages/pandas/core/frame.py:11360\u001b[0m, in \u001b[0;36mDataFrame.values\u001b[0;34m(self)\u001b[0m\n\u001b[1;32m  11286\u001b[0m \u001b[39m@property\u001b[39m\n\u001b[1;32m  11287\u001b[0m \u001b[39mdef\u001b[39;00m \u001b[39mvalues\u001b[39m(\u001b[39mself\u001b[39m) \u001b[39m-\u001b[39m\u001b[39m>\u001b[39m np\u001b[39m.\u001b[39mndarray:\n\u001b[1;32m  11288\u001b[0m \u001b[39m    \u001b[39m\u001b[39m\"\"\"\u001b[39;00m\n\u001b[1;32m  11289\u001b[0m \u001b[39m    Return a Numpy representation of the DataFrame.\u001b[39;00m\n\u001b[1;32m  11290\u001b[0m \n\u001b[0;32m   (...)\u001b[0m\n\u001b[1;32m  11358\u001b[0m \u001b[39m           ['monkey', nan, None]], dtype=object)\u001b[39;00m\n\u001b[1;32m  11359\u001b[0m \u001b[39m    \"\"\"\u001b[39;00m\n\u001b[0;32m> 11360\u001b[0m     \u001b[39mreturn\u001b[39;00m \u001b[39mself\u001b[39;49m\u001b[39m.\u001b[39;49m_mgr\u001b[39m.\u001b[39;49mas_array()\n",
      "File \u001b[0;32m~/miniconda3/envs/zoomcamp/lib/python3.11/site-packages/pandas/core/internals/managers.py:1732\u001b[0m, in \u001b[0;36mBlockManager.as_array\u001b[0;34m(self, dtype, copy, na_value)\u001b[0m\n\u001b[1;32m   1730\u001b[0m         arr\u001b[39m.\u001b[39mflags\u001b[39m.\u001b[39mwriteable \u001b[39m=\u001b[39m \u001b[39mFalse\u001b[39;00m\n\u001b[1;32m   1731\u001b[0m \u001b[39melse\u001b[39;00m:\n\u001b[0;32m-> 1732\u001b[0m     arr \u001b[39m=\u001b[39m \u001b[39mself\u001b[39;49m\u001b[39m.\u001b[39;49m_interleave(dtype\u001b[39m=\u001b[39;49mdtype, na_value\u001b[39m=\u001b[39;49mna_value)\n\u001b[1;32m   1733\u001b[0m     \u001b[39m# The underlying data was copied within _interleave, so no need\u001b[39;00m\n\u001b[1;32m   1734\u001b[0m     \u001b[39m# to further copy if copy=True or setting na_value\u001b[39;00m\n\u001b[1;32m   1736\u001b[0m \u001b[39mif\u001b[39;00m na_value \u001b[39mis\u001b[39;00m \u001b[39mnot\u001b[39;00m lib\u001b[39m.\u001b[39mno_default:\n",
      "File \u001b[0;32m~/miniconda3/envs/zoomcamp/lib/python3.11/site-packages/pandas/core/internals/managers.py:1794\u001b[0m, in \u001b[0;36mBlockManager._interleave\u001b[0;34m(self, dtype, na_value)\u001b[0m\n\u001b[1;32m   1792\u001b[0m     \u001b[39melse\u001b[39;00m:\n\u001b[1;32m   1793\u001b[0m         arr \u001b[39m=\u001b[39m blk\u001b[39m.\u001b[39mget_values(dtype)\n\u001b[0;32m-> 1794\u001b[0m     result[rl\u001b[39m.\u001b[39;49mindexer] \u001b[39m=\u001b[39m arr\n\u001b[1;32m   1795\u001b[0m     itemmask[rl\u001b[39m.\u001b[39mindexer] \u001b[39m=\u001b[39m \u001b[39m1\u001b[39m\n\u001b[1;32m   1797\u001b[0m \u001b[39mif\u001b[39;00m \u001b[39mnot\u001b[39;00m itemmask\u001b[39m.\u001b[39mall():\n",
      "\u001b[0;31mValueError\u001b[0m: could not broadcast input array from shape (300,9897) into shape (1,9897)"
     ]
    }
   ],
   "source": [
    "report.as_dict()"
   ]
  },
  {
   "cell_type": "code",
   "execution_count": null,
   "metadata": {},
   "outputs": [],
   "source": []
  }
 ],
 "metadata": {
  "kernelspec": {
   "display_name": "rollansapyshev-6C_QzAy-",
   "language": "python",
   "name": "python3"
  },
  "language_info": {
   "codemirror_mode": {
    "name": "ipython",
    "version": 3
   },
   "file_extension": ".py",
   "mimetype": "text/x-python",
   "name": "python",
   "nbconvert_exporter": "python",
   "pygments_lexer": "ipython3",
   "version": "3.11.4"
  },
  "orig_nbformat": 4
 },
 "nbformat": 4,
 "nbformat_minor": 2
}
